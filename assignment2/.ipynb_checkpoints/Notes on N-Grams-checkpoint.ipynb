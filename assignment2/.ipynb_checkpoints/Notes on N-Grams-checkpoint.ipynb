{
 "cells": [
  {
   "cell_type": "markdown",
   "metadata": {},
   "source": [
    "### Jason's extra notes\n",
    "\n",
    "- Concept: we want to teach the algorithm what should be “expected” as far as character combinations\n",
    "- We do that by figuring out what n-grams appear in legitimate domains and then calculate the difference\n",
    "\n",
    "Reference: \n",
    "1. [Data Driven Security](http://datadrivensecurity.info/blog/posts/2014/Oct/dga-part2/)\n",
    "2. [Stanford CS224n](https://www.youtube.com/watch?v=dkUtavsPqNA)"
   ]
  },
  {
   "cell_type": "code",
   "execution_count": 8,
   "metadata": {},
   "outputs": [
    {
     "data": {
      "text/html": [
       "<style>.container { width:100% !important; }</style>"
      ],
      "text/plain": [
       "<IPython.core.display.HTML object>"
      ]
     },
     "metadata": {},
     "output_type": "display_data"
    }
   ],
   "source": [
    "# Setup\n",
    "import sklearn.feature_extraction\n",
    "import pandas as pd\n",
    "import numpy as np\n",
    "import pylab\n",
    "\n",
    "from IPython.core.display import display, HTML\n",
    "display(HTML(\"<style>.container { width:100% !important; }</style>\"))\n",
    "\n",
    "# Set default pylab parameters to figure\n",
    "pylab.rcParams['figure.figsize'] = (14.0, 5.0)\n",
    "pylab.rcParams['axes.grid'] = True"
   ]
  },
  {
   "cell_type": "code",
   "execution_count": 15,
   "metadata": {},
   "outputs": [
    {
     "name": "stdout",
     "output_type": "stream",
     "text": [
      "['ac', 'ap', 'bo', 'ce', 'eb', 'fa', 'gl', 'go', 'le', 'og', 'ok', 'oo', 'pl', 'pp']\n",
      "\n",
      "Returns a document-term matrix:\n",
      "[[1 0 1 1 1 1 0 0 0 0 1 1 0 0]\n",
      " [0 0 0 0 0 0 1 1 1 1 0 2 0 0]\n",
      " [0 1 0 0 0 0 0 0 1 0 0 0 1 1]]\n",
      "\n",
      "Sum up the values for each term and log the summed value:\n"
     ]
    },
    {
     "data": {
      "text/plain": [
       "array([0.        , 0.        , 0.        , 0.        , 0.        ,\n",
       "       0.        , 0.        , 0.        , 0.30103   , 0.        ,\n",
       "       0.        , 0.47712125, 0.        , 0.        ])"
      ]
     },
     "execution_count": 15,
     "metadata": {},
     "output_type": "execute_result"
    }
   ],
   "source": [
    "from sklearn.feature_extraction.text import CountVectorizer\n",
    "legit_series = pd.Series(['facebook','gooogle', 'apple'], name=\"domain\")\n",
    "cv = CountVectorizer(analyzer='char', ngram_range=(2,2))\n",
    "counts_matrix = cv.fit_transform(legit_series)\n",
    "ngram_score = np.log10(counts_matrix.sum(axis=0).getA1())\n",
    "\n",
    "print(cv.get_feature_names())\n",
    "print(\"\\nReturns a document-term matrix:\")\n",
    "print(counts_matrix.toarray())\n",
    "\n",
    "print(\"\\nSum up the values for each term and log the summed value:\")\n",
    "ngram_score"
   ]
  },
  {
   "cell_type": "code",
   "execution_count": 10,
   "metadata": {},
   "outputs": [
    {
     "name": "stdout",
     "output_type": "stream",
     "text": [
      "[[1 0 1 1 1 1 0 0 0 0 1 2 0 0]\n",
      " [0 0 0 0 0 0 0 0 0 0 0 0 0 0]]\n",
      "[[1 0]\n",
      " [0 0]\n",
      " [1 0]\n",
      " [1 0]\n",
      " [1 0]\n",
      " [1 0]\n",
      " [0 0]\n",
      " [0 0]\n",
      " [0 0]\n",
      " [0 0]\n",
      " [1 0]\n",
      " [2 0]\n",
      " [0 0]\n",
      " [0 0]]\n"
     ]
    }
   ],
   "source": [
    "test_series = pd.Series(['faceboook','zqwpro'], name=\"domain\")\n",
    "print(cv.transform(test_series).toarray())\n",
    "print(cv.transform(test_series).T.toarray())"
   ]
  },
  {
   "cell_type": "code",
   "execution_count": 11,
   "metadata": {},
   "outputs": [
    {
     "name": "stdout",
     "output_type": "stream",
     "text": [
      "alexa_gram feature is the number of matches between ngrams from test domains and ngrams from all legit domains\n"
     ]
    },
    {
     "data": {
      "text/plain": [
       "array([0.95424251, 0.        ])"
      ]
     },
     "execution_count": 11,
     "metadata": {},
     "output_type": "execute_result"
    }
   ],
   "source": [
    "print('alexa_gram feature is the number of matches between ngrams from test domains and ngrams from all legit domains')\n",
    "np.set_printoptions(threshold=np.inf)\n",
    "ngram_score * cv.transform(test_series).T "
   ]
  },
  {
   "cell_type": "markdown",
   "metadata": {},
   "source": [
    "#### TF-IDF\n",
    "\n",
    "**TF(t)** = (Number of times term t appears in a document) / (Total number of terms in the document)  \n",
    "**IDF(t)** = log_e(Total number of documents / Number of documents with term t in it)  \n",
    "\n",
    "Consider a document containing 100 words wherein the word cat appears 3 times. The term frequency (i.e., tf) for cat is then (3 / 100) = 0.03. Now, assume we have 10 million documents and the word cat appears in one thousand of these. Then, the inverse document frequency (i.e., idf) is calculated as log(10,000,000 / 1,000) = 4. Thus, the Tf-idf weight is the product of these quantities: 0.03 * 4 = 0.12."
   ]
  },
  {
   "cell_type": "code",
   "execution_count": null,
   "metadata": {},
   "outputs": [],
   "source": []
  }
 ],
 "metadata": {
  "kernelspec": {
   "display_name": "Python 3",
   "language": "python",
   "name": "python3"
  },
  "language_info": {
   "codemirror_mode": {
    "name": "ipython",
    "version": 3
   },
   "file_extension": ".py",
   "mimetype": "text/x-python",
   "name": "python",
   "nbconvert_exporter": "python",
   "pygments_lexer": "ipython3",
   "version": "3.6.3"
  }
 },
 "nbformat": 4,
 "nbformat_minor": 2
}
