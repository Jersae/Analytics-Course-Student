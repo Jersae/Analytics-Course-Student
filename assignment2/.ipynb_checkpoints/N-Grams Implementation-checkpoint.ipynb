{
 "cells": [
  {
   "cell_type": "markdown",
   "metadata": {},
   "source": [
    "### N-Grams Implementation for DGA detection\n",
    "\n",
    "- Concept: we want to teach the algorithm what should be “expected” as far as character combinations\n",
    "- We do that by figuring out what n-grams appear in legitimate domains and then calculate the difference\n",
    "\n",
    "Reference:\n",
    "1. [Stanford CS224n - Using nGrams for probabilistic langauge modeling](https://www.youtube.com/watch?v=dkUtavsPqNA)"
   ]
  },
  {
   "cell_type": "markdown",
   "metadata": {},
   "source": [
    "The goal in probabilistic modeling"
   ]
  },
  {
   "cell_type": "code",
   "execution_count": 1,
   "metadata": {},
   "outputs": [
    {
     "data": {
      "text/html": [
       "<style>.container { width:100% !important; }</style>"
      ],
      "text/plain": [
       "<IPython.core.display.HTML object>"
      ]
     },
     "metadata": {},
     "output_type": "display_data"
    }
   ],
   "source": [
    "# Setup\n",
    "import sklearn.feature_extraction\n",
    "import pandas as pd\n",
    "import numpy as np\n",
    "import pylab\n",
    "import tldextract\n",
    "import numpy as np\n",
    "from matplotlib import pyplot as plt\n",
    "\n",
    "from IPython.core.display import display, HTML\n",
    "display(HTML(\"<style>.container { width:100% !important; }</style>\"))\n",
    "\n",
    "# Set default pylab parameters to figure\n",
    "pylab.rcParams['figure.figsize'] = (14.0, 5.0)\n",
    "pylab.rcParams['axes.grid'] = True"
   ]
  },
  {
   "cell_type": "markdown",
   "metadata": {},
   "source": [
    "#### Prepare legit dataset"
   ]
  },
  {
   "cell_type": "code",
   "execution_count": 2,
   "metadata": {},
   "outputs": [
    {
     "name": "stdout",
     "output_type": "stream",
     "text": [
      "Total Alexa domains 91377\n",
      "Number of training Alexa domains: 82240\n"
     ]
    },
    {
     "data": {
      "text/html": [
       "<div>\n",
       "<style scoped>\n",
       "    .dataframe tbody tr th:only-of-type {\n",
       "        vertical-align: middle;\n",
       "    }\n",
       "\n",
       "    .dataframe tbody tr th {\n",
       "        vertical-align: top;\n",
       "    }\n",
       "\n",
       "    .dataframe thead th {\n",
       "        text-align: right;\n",
       "    }\n",
       "</style>\n",
       "<table border=\"1\" class=\"dataframe\">\n",
       "  <thead>\n",
       "    <tr style=\"text-align: right;\">\n",
       "      <th></th>\n",
       "      <th>domain</th>\n",
       "      <th>class</th>\n",
       "    </tr>\n",
       "  </thead>\n",
       "  <tbody>\n",
       "    <tr>\n",
       "      <th>2021</th>\n",
       "      <td>vjia</td>\n",
       "      <td>legit</td>\n",
       "    </tr>\n",
       "    <tr>\n",
       "      <th>69923</th>\n",
       "      <td>linkpast</td>\n",
       "      <td>legit</td>\n",
       "    </tr>\n",
       "    <tr>\n",
       "      <th>56600</th>\n",
       "      <td>themoviedb</td>\n",
       "      <td>legit</td>\n",
       "    </tr>\n",
       "    <tr>\n",
       "      <th>70509</th>\n",
       "      <td>bowbie</td>\n",
       "      <td>legit</td>\n",
       "    </tr>\n",
       "    <tr>\n",
       "      <th>19597</th>\n",
       "      <td>dotnetspider</td>\n",
       "      <td>legit</td>\n",
       "    </tr>\n",
       "  </tbody>\n",
       "</table>\n",
       "</div>"
      ],
      "text/plain": [
       "             domain  class\n",
       "2021           vjia  legit\n",
       "69923      linkpast  legit\n",
       "56600    themoviedb  legit\n",
       "70509        bowbie  legit\n",
       "19597  dotnetspider  legit"
      ]
     },
     "execution_count": 2,
     "metadata": {},
     "output_type": "execute_result"
    }
   ],
   "source": [
    "alexa_dataframe = pd.read_csv('data/alexa_100k.csv', names=['rank','uri'], header=None, encoding='utf-8')\n",
    "\n",
    "def domain_extract(uri):\n",
    "    ext = tldextract.extract(uri)\n",
    "    if (not ext.suffix):\n",
    "        return np.nan\n",
    "    else:\n",
    "        return ext.domain\n",
    "    \n",
    "alexa_dataframe['domain'] = alexa_dataframe['uri'].apply(domain_extract)\n",
    "del alexa_dataframe['rank'], alexa_dataframe['uri']\n",
    "alexa_dataframe.dropna(inplace=True)\n",
    "alexa_dataframe.drop_duplicates(inplace=True)\n",
    "alexa_dataframe['class'] = 'legit'\n",
    "# Shuffle the data (important for training/testing)\n",
    "alexa_dataframe = alexa_dataframe.reindex(np.random.permutation(alexa_dataframe.index))\n",
    "alexa_total = alexa_dataframe.shape[0]\n",
    "print('Total Alexa domains %d' % alexa_total)\n",
    "# Create a holdout set of 10% of the total alexa domains\n",
    "split = int(0.1 * alexa_total)\n",
    "hold_out_alexa, alexa_dataframe = alexa_dataframe[:split], alexa_dataframe[split:]\n",
    "print('Number of training Alexa domains: %d' % alexa_dataframe.shape[0])\n",
    "alexa_dataframe.head()"
   ]
  },
  {
   "cell_type": "markdown",
   "metadata": {},
   "source": [
    "#### Prepare DGA dataset"
   ]
  },
  {
   "cell_type": "code",
   "execution_count": 3,
   "metadata": {},
   "outputs": [
    {
     "name": "stdout",
     "output_type": "stream",
     "text": [
      "Total DGA domains 2664\n",
      "Number of training DGA domains: 2397\n"
     ]
    },
    {
     "data": {
      "text/html": [
       "<div>\n",
       "<style scoped>\n",
       "    .dataframe tbody tr th:only-of-type {\n",
       "        vertical-align: middle;\n",
       "    }\n",
       "\n",
       "    .dataframe tbody tr th {\n",
       "        vertical-align: top;\n",
       "    }\n",
       "\n",
       "    .dataframe thead th {\n",
       "        text-align: right;\n",
       "    }\n",
       "</style>\n",
       "<table border=\"1\" class=\"dataframe\">\n",
       "  <thead>\n",
       "    <tr style=\"text-align: right;\">\n",
       "      <th></th>\n",
       "      <th>domain</th>\n",
       "      <th>class</th>\n",
       "    </tr>\n",
       "  </thead>\n",
       "  <tbody>\n",
       "    <tr>\n",
       "      <th>0</th>\n",
       "      <td>04055051be412eea5a61b7da8438be3d</td>\n",
       "      <td>dga</td>\n",
       "    </tr>\n",
       "    <tr>\n",
       "      <th>1</th>\n",
       "      <td>1cb8a5f36f</td>\n",
       "      <td>dga</td>\n",
       "    </tr>\n",
       "    <tr>\n",
       "      <th>2</th>\n",
       "      <td>30acd347397c34fc273e996b22951002</td>\n",
       "      <td>dga</td>\n",
       "    </tr>\n",
       "    <tr>\n",
       "      <th>3</th>\n",
       "      <td>336c986a284e2b3bc0f69f949cb437cb</td>\n",
       "      <td>dga</td>\n",
       "    </tr>\n",
       "    <tr>\n",
       "      <th>5</th>\n",
       "      <td>40a43e61e56a5c218cf6c22aca27f7ee</td>\n",
       "      <td>dga</td>\n",
       "    </tr>\n",
       "  </tbody>\n",
       "</table>\n",
       "</div>"
      ],
      "text/plain": [
       "                             domain class\n",
       "0  04055051be412eea5a61b7da8438be3d   dga\n",
       "1                        1cb8a5f36f   dga\n",
       "2  30acd347397c34fc273e996b22951002   dga\n",
       "3  336c986a284e2b3bc0f69f949cb437cb   dga\n",
       "5  40a43e61e56a5c218cf6c22aca27f7ee   dga"
      ]
     },
     "execution_count": 3,
     "metadata": {},
     "output_type": "execute_result"
    }
   ],
   "source": [
    "# Read in the DGA domains\n",
    "dga_dataframe = pd.read_csv('data/dga_domains.txt', names=['raw_domain'], header=None, encoding='utf-8')\n",
    "\n",
    "# We noticed that the blacklist values just differ by captilization or .com/.org/.info\n",
    "# <Try map operation>\n",
    "dga_dataframe['domain'] = dga_dataframe.applymap(lambda x: x.split('.')[0].strip().lower())\n",
    "del dga_dataframe['raw_domain']\n",
    "\n",
    "# It's possible we have NaNs from blanklines or whatever\n",
    "dga_dataframe = dga_dataframe.dropna()\n",
    "dga_dataframe = dga_dataframe.drop_duplicates()\n",
    "dga_total = dga_dataframe.shape[0]\n",
    "print('Total DGA domains %d' % dga_total)\n",
    "\n",
    "# Set the class\n",
    "dga_dataframe['class'] = 'dga'\n",
    "\n",
    "# Hold out 10%\n",
    "hold_out_dga = dga_dataframe[int(dga_total*.9):]\n",
    "dga_dataframe = dga_dataframe[:int(dga_total*.9)]\n",
    "\n",
    "print('Number of training DGA domains: %d' % dga_dataframe.shape[0])\n",
    "dga_dataframe.head()"
   ]
  },
  {
   "cell_type": "code",
   "execution_count": 4,
   "metadata": {},
   "outputs": [],
   "source": [
    "# Concatenate the domains in a big pile!\n",
    "all_domains = pd.concat([alexa_dataframe, dga_dataframe], ignore_index=True)\n",
    "\n",
    "# Add a length field for the domain\n",
    "all_domains['length'] = [len(x) for x in all_domains['domain']]\n",
    "\n",
    "# Since we're trying to detect dynamically generated domains, short\n",
    "# domains (length <=6) are crazy random even for 'legit' domains we're going\n",
    "# to punt on short domains (perhaps just white/black list for short domains?)\n",
    "all_domains = all_domains[all_domains['length'] > 6]"
   ]
  },
  {
   "cell_type": "markdown",
   "metadata": {},
   "source": [
    "### Background on N-Grams model\n",
    "\n",
    "The goal of a language model is to compute the probability of a sentence or sequence of words:  \n",
    "[TODO] Update theory\n",
    "\n",
    "<img src=\"./images/bigram_example.png\" alt=\"drawing\" width=\"800px\"/>\n",
    "\n",
    "Reference: \n",
    "1. [Stanford CS224n](https://www.youtube.com/watch?v=dkUtavsPqNA)"
   ]
  },
  {
   "cell_type": "code",
   "execution_count": 5,
   "metadata": {},
   "outputs": [],
   "source": [
    "from sklearn.feature_extraction.text import CountVectorizer\n",
    "import operator\n",
    "\n",
    "def ngram_extract(series, ngrams, analyzer='char', min_df=1e-4, max_df=1.0):\n",
    "    cv = CountVectorizer(analyzer=analyzer, ngram_range=(ngrams,ngrams), min_df=min_df, max_df=max_df)\n",
    "    counts_matrix = cv.fit_transform(series)\n",
    "    ngrams_counts = counts_matrix.sum(axis=0).getA1()\n",
    "    ngrams_list = cv.get_feature_names()\n",
    "    ngrams_dict = dict(sorted(zip(ngrams_list, ngrams_counts), key=operator.itemgetter(1), reverse=True))\n",
    "    return ngrams_dict\n",
    "\n",
    "unigrams_vocb = ngram_extract(alexa_dataframe['domain'], ngrams=1) \n",
    "bigrams_vocb = ngram_extract(alexa_dataframe['domain'], ngrams=2)\n",
    "trigrams_vocb = ngram_extract(alexa_dataframe['domain'], ngrams=3)"
   ]
  },
  {
   "cell_type": "code",
   "execution_count": 22,
   "metadata": {},
   "outputs": [],
   "source": [
    "'''Compute Ngram probabilities'''\n",
    "from nltk.util import ngrams\n",
    "\n",
    "# Default to Trigram Model\n",
    "def Ngram(domain, ngram_model=3, gram1_vocb=bigrams_vocb, gram2_vocb=trigrams_vocb):\n",
    "    grams1 = ngrams(domain, ngram_model-1)\n",
    "    grams2 = ngrams(domain, ngram_model)\n",
    "    grams1_list = [''.join(g) for g in grams1]\n",
    "    grams2_list = [''.join(g) for g in grams2]\n",
    "\n",
    "    V_size = len(gram2_vocb)\n",
    "    grams1_counter = {}\n",
    "    grams2_counter = {}\n",
    "    for g in grams2_list:\n",
    "        if g in gram2_vocb:\n",
    "            grams2_counter[g] = gram2_vocb[g]\n",
    "        else:\n",
    "            grams2_counter[g] = 0\n",
    "\n",
    "    for g in grams1_list:\n",
    "        if g in gram1_vocb:\n",
    "            grams1_counter[g] = gram1_vocb[g]\n",
    "        else:\n",
    "            grams1_counter[g] = 0\n",
    "\n",
    "    prob_list = []\n",
    "    for i,v in enumerate(grams2_list):\n",
    "        prob = (grams2_counter[v] + 1.0) / (grams1_counter[grams1_list[i]] + V_size)\n",
    "        prob_list.append(-np.log(prob))\n",
    "    \n",
    "    #print(list(zip(grams2_list, prob_list)))\n",
    "    return np.array(prob_list).sum()"
   ]
  },
  {
   "cell_type": "code",
   "execution_count": 27,
   "metadata": {},
   "outputs": [],
   "source": [
    "all_domains['alexa_2grams'] = all_domains['domain'].apply(lambda domain: Ngram(domain, ngram_model=2, gram1_vocb=unigrams_vocb, gram2_vocb=bigrams_vocb))\n",
    "all_domains['alexa_3grams'] = all_domains['domain'].apply(lambda domain: Ngram(domain, ngram_model=3, gram1_vocb=bigrams_vocb, gram2_vocb=trigrams_vocb))"
   ]
  },
  {
   "cell_type": "code",
   "execution_count": 28,
   "metadata": {},
   "outputs": [
    {
     "data": {
      "text/html": [
       "<div>\n",
       "<style scoped>\n",
       "    .dataframe tbody tr th:only-of-type {\n",
       "        vertical-align: middle;\n",
       "    }\n",
       "\n",
       "    .dataframe tbody tr th {\n",
       "        vertical-align: top;\n",
       "    }\n",
       "\n",
       "    .dataframe thead th {\n",
       "        text-align: right;\n",
       "    }\n",
       "</style>\n",
       "<table border=\"1\" class=\"dataframe\">\n",
       "  <thead>\n",
       "    <tr style=\"text-align: right;\">\n",
       "      <th></th>\n",
       "      <th>domain</th>\n",
       "      <th>class</th>\n",
       "      <th>length</th>\n",
       "      <th>alexa_3grams</th>\n",
       "      <th>alexa_2grams</th>\n",
       "      <th>alexa_Ngrams</th>\n",
       "    </tr>\n",
       "  </thead>\n",
       "  <tbody>\n",
       "    <tr>\n",
       "      <th>1</th>\n",
       "      <td>linkpast</td>\n",
       "      <td>legit</td>\n",
       "      <td>8</td>\n",
       "      <td>21.964238</td>\n",
       "      <td>17.834944</td>\n",
       "      <td>17.834944</td>\n",
       "    </tr>\n",
       "    <tr>\n",
       "      <th>2</th>\n",
       "      <td>themoviedb</td>\n",
       "      <td>legit</td>\n",
       "      <td>10</td>\n",
       "      <td>26.553653</td>\n",
       "      <td>26.013823</td>\n",
       "      <td>26.013823</td>\n",
       "    </tr>\n",
       "    <tr>\n",
       "      <th>4</th>\n",
       "      <td>dotnetspider</td>\n",
       "      <td>legit</td>\n",
       "      <td>12</td>\n",
       "      <td>38.215802</td>\n",
       "      <td>31.122418</td>\n",
       "      <td>31.122418</td>\n",
       "    </tr>\n",
       "    <tr>\n",
       "      <th>5</th>\n",
       "      <td>creativeoverflow</td>\n",
       "      <td>legit</td>\n",
       "      <td>16</td>\n",
       "      <td>53.618095</td>\n",
       "      <td>42.576060</td>\n",
       "      <td>42.576060</td>\n",
       "    </tr>\n",
       "    <tr>\n",
       "      <th>7</th>\n",
       "      <td>advancedfileoptimizer</td>\n",
       "      <td>legit</td>\n",
       "      <td>21</td>\n",
       "      <td>78.869568</td>\n",
       "      <td>59.796367</td>\n",
       "      <td>59.796367</td>\n",
       "    </tr>\n",
       "  </tbody>\n",
       "</table>\n",
       "</div>"
      ],
      "text/plain": [
       "                  domain  class  length  alexa_3grams  alexa_2grams  \\\n",
       "1               linkpast  legit       8     21.964238     17.834944   \n",
       "2             themoviedb  legit      10     26.553653     26.013823   \n",
       "4           dotnetspider  legit      12     38.215802     31.122418   \n",
       "5       creativeoverflow  legit      16     53.618095     42.576060   \n",
       "7  advancedfileoptimizer  legit      21     78.869568     59.796367   \n",
       "\n",
       "   alexa_Ngrams  \n",
       "1     17.834944  \n",
       "2     26.013823  \n",
       "4     31.122418  \n",
       "5     42.576060  \n",
       "7     59.796367  "
      ]
     },
     "execution_count": 28,
     "metadata": {},
     "output_type": "execute_result"
    }
   ],
   "source": [
    "all_domains.head()"
   ]
  },
  {
   "cell_type": "code",
   "execution_count": null,
   "metadata": {},
   "outputs": [],
   "source": [
    "def plot2Dfeatures(df, dim1, dim2, condition):\n",
    "    \"\"\"\n",
    "    Problem 3b:\n",
    "    Write the plot function to generate a scatterplot of DGA and legit domains\n",
    "    \"\"\"\n",
    "    # Write your code here.\n",
    "    dga_df = df[condition]\n",
    "    legit_df = df[~condition]\n",
    "    plt.scatter(legit_df[dim1].values, legit_df[dim2].values, c='cyan', alpha=0.2, s=140, label='Legit')\n",
    "    plt.scatter(dga_df[dim1].values, dga_df[dim2].values, c='black', alpha=0.3, s=80, label='DGA')\n",
    "    plt.xlabel('domain ' + dim1)\n",
    "    plt.ylabel('domain ' + dim2)\n",
    "    plt.legend(loc=1)\n",
    "    plt.show()"
   ]
  },
  {
   "cell_type": "code",
   "execution_count": 29,
   "metadata": {},
   "outputs": [
    {
     "data": {
      "image/png": "[encoded data removed]",
      "text/plain": [
       "<matplotlib.figure.Figure at 0x7f8d2d1e4668>"
      ]
     },
     "metadata": {},
     "output_type": "display_data"
    }
   ],
   "source": [
    "condition = all_domains['class'] == 'dga'\n",
    "plot2Dfeatures(all_domains, 'length', 'alexa_2grams', condition)"
   ]
  },
  {
   "cell_type": "code",
   "execution_count": 30,
   "metadata": {},
   "outputs": [
    {
     "data": {
      "image/png": "[encoded data removed]",
      "text/plain": [
       "<matplotlib.figure.Figure at 0x7f8d2d16ca90>"
      ]
     },
     "metadata": {},
     "output_type": "display_data"
    }
   ],
   "source": [
    "condition = all_domains['class'] == 'dga'\n",
    "plot2Dfeatures(all_domains, 'length', 'alexa_3grams', condition)"
   ]
  },
  {
   "cell_type": "code",
   "execution_count": null,
   "metadata": {},
   "outputs": [],
   "source": [
    "'''Compute Custom Unigram probabilities'''\n",
    "from nltk.util import ngrams\n",
    "\n",
    "# Custom unigram just returns the probability of the first char of the sentence.\n",
    "def Unigram(domain, gram_vocb = unigrams_vocb):\n",
    "    V_size = sum(unigrams_vocb.values())\n",
    "    if domain[0] in unigrams_vocb:\n",
    "        return unigrams_vocb[domain[0]] / V_size\n",
    "    else:\n",
    "        # return a small prob"
   ]
  },
  {
   "cell_type": "code",
   "execution_count": 38,
   "metadata": {},
   "outputs": [
    {
     "data": {
      "text/plain": [
       "'f'"
      ]
     },
     "execution_count": 38,
     "metadata": {},
     "output_type": "execute_result"
    }
   ],
   "source": [
    "a = 'facebook'\n",
    "a[0]"
   ]
  },
  {
   "cell_type": "code",
   "execution_count": 37,
   "metadata": {},
   "outputs": [
    {
     "data": {
      "text/plain": [
       "764026"
      ]
     },
     "execution_count": 37,
     "metadata": {},
     "output_type": "execute_result"
    }
   ],
   "source": []
  },
  {
   "cell_type": "code",
   "execution_count": null,
   "metadata": {},
   "outputs": [],
   "source": []
  },
  {
   "cell_type": "code",
   "execution_count": null,
   "metadata": {},
   "outputs": [],
   "source": []
  },
  {
   "cell_type": "code",
   "execution_count": null,
   "metadata": {},
   "outputs": [],
   "source": []
  },
  {
   "cell_type": "code",
   "execution_count": null,
   "metadata": {},
   "outputs": [],
   "source": []
  },
  {
   "cell_type": "code",
   "execution_count": null,
   "metadata": {},
   "outputs": [],
   "source": []
  },
  {
   "cell_type": "code",
   "execution_count": null,
   "metadata": {},
   "outputs": [],
   "source": []
  },
  {
   "cell_type": "code",
   "execution_count": null,
   "metadata": {},
   "outputs": [],
   "source": []
  },
  {
   "cell_type": "code",
   "execution_count": null,
   "metadata": {},
   "outputs": [],
   "source": []
  },
  {
   "cell_type": "code",
   "execution_count": null,
   "metadata": {},
   "outputs": [],
   "source": []
  },
  {
   "cell_type": "code",
   "execution_count": null,
   "metadata": {},
   "outputs": [],
   "source": [
    "\n"
   ]
  },
  {
   "cell_type": "code",
   "execution_count": null,
   "metadata": {},
   "outputs": [],
   "source": []
  },
  {
   "cell_type": "code",
   "execution_count": null,
   "metadata": {},
   "outputs": [],
   "source": [
    "#TODO: UNK processing\n",
    "print('The size of trigrams before <UNK>: %d' %len(trigrams_dict))\n",
    "UNK_word = []\n",
    "Vocab_trigrams = []\n",
    "for k in trigrams_dict:\n",
    "    if trigrams_dict[k] < 3:\n",
    "        UNK_word.append(k)\n",
    "    else:\n",
    "        Vocab_trigrams.append(k)"
   ]
  }
 ],
 "metadata": {
  "kernelspec": {
   "display_name": "Python 3",
   "language": "python",
   "name": "python3"
  },
  "language_info": {
   "codemirror_mode": {
    "name": "ipython",
    "version": 3
   },
   "file_extension": ".py",
   "mimetype": "text/x-python",
   "name": "python",
   "nbconvert_exporter": "python",
   "pygments_lexer": "ipython3",
   "version": "3.6.4"
  }
 },
 "nbformat": 4,
 "nbformat_minor": 2
}
