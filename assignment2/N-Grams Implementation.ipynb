{
 "cells": [
  {
   "cell_type": "markdown",
   "metadata": {},
   "source": [
    "### N-Grams Implementation for DGA detection\n",
    "\n",
    "- Concept: we want to teach the algorithm what should be “expected” as far as character combinations\n",
    "- We do that by figuring out what n-grams appear in legitimate domains and then calculate the difference\n",
    "\n",
    "Reference:\n",
    "1. [Stanford CS224n - Using nGrams for probabilistic langauge modeling](https://www.youtube.com/watch?v=dkUtavsPqNA)"
   ]
  },
  {
   "cell_type": "markdown",
   "metadata": {},
   "source": [
    "The goal in probabilistic modeling"
   ]
  },
  {
   "cell_type": "code",
   "execution_count": 1,
   "metadata": {},
   "outputs": [
    {
     "data": {
      "text/html": [
       "<style>.container { width:100% !important; }</style>"
      ],
      "text/plain": [
       "<IPython.core.display.HTML object>"
      ]
     },
     "metadata": {},
     "output_type": "display_data"
    }
   ],
   "source": [
    "# Setup\n",
    "import sklearn.feature_extraction\n",
    "import pandas as pd\n",
    "import numpy as np\n",
    "import pylab\n",
    "import tldextract\n",
    "import numpy as np\n",
    "from matplotlib import pyplot as plt\n",
    "\n",
    "from IPython.core.display import display, HTML\n",
    "display(HTML(\"<style>.container { width:100% !important; }</style>\"))\n",
    "\n",
    "# Set default pylab parameters to figure\n",
    "pylab.rcParams['figure.figsize'] = (14.0, 5.0)\n",
    "pylab.rcParams['axes.grid'] = True"
   ]
  },
  {
   "cell_type": "markdown",
   "metadata": {},
   "source": [
    "#### Prepare legit dataset"
   ]
  },
  {
   "cell_type": "code",
   "execution_count": 2,
   "metadata": {},
   "outputs": [
    {
     "name": "stdout",
     "output_type": "stream",
     "text": [
      "Total Alexa domains 91377\n",
      "Number of training Alexa domains: 82240\n"
     ]
    },
    {
     "data": {
      "text/html": [
       "<div>\n",
       "<style scoped>\n",
       "    .dataframe tbody tr th:only-of-type {\n",
       "        vertical-align: middle;\n",
       "    }\n",
       "\n",
       "    .dataframe tbody tr th {\n",
       "        vertical-align: top;\n",
       "    }\n",
       "\n",
       "    .dataframe thead th {\n",
       "        text-align: right;\n",
       "    }\n",
       "</style>\n",
       "<table border=\"1\" class=\"dataframe\">\n",
       "  <thead>\n",
       "    <tr style=\"text-align: right;\">\n",
       "      <th></th>\n",
       "      <th>domain</th>\n",
       "      <th>class</th>\n",
       "    </tr>\n",
       "  </thead>\n",
       "  <tbody>\n",
       "    <tr>\n",
       "      <th>51024</th>\n",
       "      <td>extrabookmarking</td>\n",
       "      <td>legit</td>\n",
       "    </tr>\n",
       "    <tr>\n",
       "      <th>37515</th>\n",
       "      <td>digitalbuzzblog</td>\n",
       "      <td>legit</td>\n",
       "    </tr>\n",
       "    <tr>\n",
       "      <th>19906</th>\n",
       "      <td>stargundem</td>\n",
       "      <td>legit</td>\n",
       "    </tr>\n",
       "    <tr>\n",
       "      <th>56557</th>\n",
       "      <td>loveinfographics</td>\n",
       "      <td>legit</td>\n",
       "    </tr>\n",
       "    <tr>\n",
       "      <th>63525</th>\n",
       "      <td>gvodirecto</td>\n",
       "      <td>legit</td>\n",
       "    </tr>\n",
       "  </tbody>\n",
       "</table>\n",
       "</div>"
      ],
      "text/plain": [
       "                 domain  class\n",
       "51024  extrabookmarking  legit\n",
       "37515   digitalbuzzblog  legit\n",
       "19906        stargundem  legit\n",
       "56557  loveinfographics  legit\n",
       "63525        gvodirecto  legit"
      ]
     },
     "execution_count": 2,
     "metadata": {},
     "output_type": "execute_result"
    }
   ],
   "source": [
    "alexa_dataframe = pd.read_csv('data/alexa_100k.csv', names=['rank','uri'], header=None, encoding='utf-8')\n",
    "\n",
    "def domain_extract(uri):\n",
    "    ext = tldextract.extract(uri)\n",
    "    if (not ext.suffix):\n",
    "        return np.nan\n",
    "    else:\n",
    "        return ext.domain\n",
    "    \n",
    "alexa_dataframe['domain'] = alexa_dataframe['uri'].apply(domain_extract)\n",
    "del alexa_dataframe['rank'], alexa_dataframe['uri']\n",
    "alexa_dataframe.dropna(inplace=True)\n",
    "alexa_dataframe.drop_duplicates(inplace=True)\n",
    "alexa_dataframe['class'] = 'legit'\n",
    "# Shuffle the data (important for training/testing)\n",
    "alexa_dataframe = alexa_dataframe.reindex(np.random.permutation(alexa_dataframe.index))\n",
    "alexa_total = alexa_dataframe.shape[0]\n",
    "print('Total Alexa domains %d' % alexa_total)\n",
    "# Create a holdout set of 10% of the total alexa domains\n",
    "split = int(0.1 * alexa_total)\n",
    "hold_out_alexa, alexa_dataframe = alexa_dataframe[:split], alexa_dataframe[split:]\n",
    "print('Number of training Alexa domains: %d' % alexa_dataframe.shape[0])\n",
    "alexa_dataframe.head()"
   ]
  },
  {
   "cell_type": "markdown",
   "metadata": {},
   "source": [
    "#### Prepare DGA dataset"
   ]
  },
  {
   "cell_type": "code",
   "execution_count": 3,
   "metadata": {},
   "outputs": [
    {
     "name": "stdout",
     "output_type": "stream",
     "text": [
      "Total DGA domains 2664\n",
      "Number of training DGA domains: 2397\n"
     ]
    },
    {
     "data": {
      "text/html": [
       "<div>\n",
       "<style scoped>\n",
       "    .dataframe tbody tr th:only-of-type {\n",
       "        vertical-align: middle;\n",
       "    }\n",
       "\n",
       "    .dataframe tbody tr th {\n",
       "        vertical-align: top;\n",
       "    }\n",
       "\n",
       "    .dataframe thead th {\n",
       "        text-align: right;\n",
       "    }\n",
       "</style>\n",
       "<table border=\"1\" class=\"dataframe\">\n",
       "  <thead>\n",
       "    <tr style=\"text-align: right;\">\n",
       "      <th></th>\n",
       "      <th>domain</th>\n",
       "      <th>class</th>\n",
       "    </tr>\n",
       "  </thead>\n",
       "  <tbody>\n",
       "    <tr>\n",
       "      <th>0</th>\n",
       "      <td>04055051be412eea5a61b7da8438be3d</td>\n",
       "      <td>dga</td>\n",
       "    </tr>\n",
       "    <tr>\n",
       "      <th>1</th>\n",
       "      <td>1cb8a5f36f</td>\n",
       "      <td>dga</td>\n",
       "    </tr>\n",
       "    <tr>\n",
       "      <th>2</th>\n",
       "      <td>30acd347397c34fc273e996b22951002</td>\n",
       "      <td>dga</td>\n",
       "    </tr>\n",
       "    <tr>\n",
       "      <th>3</th>\n",
       "      <td>336c986a284e2b3bc0f69f949cb437cb</td>\n",
       "      <td>dga</td>\n",
       "    </tr>\n",
       "    <tr>\n",
       "      <th>5</th>\n",
       "      <td>40a43e61e56a5c218cf6c22aca27f7ee</td>\n",
       "      <td>dga</td>\n",
       "    </tr>\n",
       "  </tbody>\n",
       "</table>\n",
       "</div>"
      ],
      "text/plain": [
       "                             domain class\n",
       "0  04055051be412eea5a61b7da8438be3d   dga\n",
       "1                        1cb8a5f36f   dga\n",
       "2  30acd347397c34fc273e996b22951002   dga\n",
       "3  336c986a284e2b3bc0f69f949cb437cb   dga\n",
       "5  40a43e61e56a5c218cf6c22aca27f7ee   dga"
      ]
     },
     "execution_count": 3,
     "metadata": {},
     "output_type": "execute_result"
    }
   ],
   "source": [
    "# Read in the DGA domains\n",
    "dga_dataframe = pd.read_csv('data/dga_domains.txt', names=['raw_domain'], header=None, encoding='utf-8')\n",
    "\n",
    "# We noticed that the blacklist values just differ by captilization or .com/.org/.info\n",
    "# <Try map operation>\n",
    "dga_dataframe['domain'] = dga_dataframe.applymap(lambda x: x.split('.')[0].strip().lower())\n",
    "del dga_dataframe['raw_domain']\n",
    "\n",
    "# It's possible we have NaNs from blanklines or whatever\n",
    "dga_dataframe = dga_dataframe.dropna()\n",
    "dga_dataframe = dga_dataframe.drop_duplicates()\n",
    "dga_total = dga_dataframe.shape[0]\n",
    "print('Total DGA domains %d' % dga_total)\n",
    "\n",
    "# Set the class\n",
    "dga_dataframe['class'] = 'dga'\n",
    "\n",
    "# Hold out 10%\n",
    "hold_out_dga = dga_dataframe[int(dga_total*.9):]\n",
    "dga_dataframe = dga_dataframe[:int(dga_total*.9)]\n",
    "\n",
    "print('Number of training DGA domains: %d' % dga_dataframe.shape[0])\n",
    "dga_dataframe.head()"
   ]
  },
  {
   "cell_type": "code",
   "execution_count": 4,
   "metadata": {},
   "outputs": [],
   "source": [
    "# Concatenate the domains in a big pile!\n",
    "all_domains = pd.concat([alexa_dataframe, dga_dataframe], ignore_index=True)\n",
    "\n",
    "# Add a length field for the domain\n",
    "all_domains['length'] = [len(x) for x in all_domains['domain']]\n",
    "\n",
    "# Since we're trying to detect dynamically generated domains, short\n",
    "# domains (length <=6) are crazy random even for 'legit' domains we're going\n",
    "# to punt on short domains (perhaps just white/black list for short domains?)\n",
    "all_domains = all_domains[all_domains['length'] > 6]"
   ]
  },
  {
   "cell_type": "code",
   "execution_count": 37,
   "metadata": {},
   "outputs": [
    {
     "data": {
      "text/html": [
       "<div>\n",
       "<style scoped>\n",
       "    .dataframe tbody tr th:only-of-type {\n",
       "        vertical-align: middle;\n",
       "    }\n",
       "\n",
       "    .dataframe tbody tr th {\n",
       "        vertical-align: top;\n",
       "    }\n",
       "\n",
       "    .dataframe thead th {\n",
       "        text-align: right;\n",
       "    }\n",
       "</style>\n",
       "<table border=\"1\" class=\"dataframe\">\n",
       "  <thead>\n",
       "    <tr style=\"text-align: right;\">\n",
       "      <th></th>\n",
       "      <th>domain</th>\n",
       "      <th>class</th>\n",
       "      <th>length</th>\n",
       "    </tr>\n",
       "  </thead>\n",
       "  <tbody>\n",
       "    <tr>\n",
       "      <th>0</th>\n",
       "      <td>newsshareonline</td>\n",
       "      <td>legit</td>\n",
       "      <td>15</td>\n",
       "    </tr>\n",
       "    <tr>\n",
       "      <th>1</th>\n",
       "      <td>direct-affiliate-sales</td>\n",
       "      <td>legit</td>\n",
       "      <td>22</td>\n",
       "    </tr>\n",
       "    <tr>\n",
       "      <th>2</th>\n",
       "      <td>yaofangwang</td>\n",
       "      <td>legit</td>\n",
       "      <td>11</td>\n",
       "    </tr>\n",
       "    <tr>\n",
       "      <th>3</th>\n",
       "      <td>imperion</td>\n",
       "      <td>legit</td>\n",
       "      <td>8</td>\n",
       "    </tr>\n",
       "    <tr>\n",
       "      <th>5</th>\n",
       "      <td>mobilestorm</td>\n",
       "      <td>legit</td>\n",
       "      <td>11</td>\n",
       "    </tr>\n",
       "  </tbody>\n",
       "</table>\n",
       "</div>"
      ],
      "text/plain": [
       "                   domain  class  length\n",
       "0         newsshareonline  legit      15\n",
       "1  direct-affiliate-sales  legit      22\n",
       "2             yaofangwang  legit      11\n",
       "3                imperion  legit       8\n",
       "5             mobilestorm  legit      11"
      ]
     },
     "execution_count": 37,
     "metadata": {},
     "output_type": "execute_result"
    }
   ],
   "source": [
    "# Pull together our hold out set\n",
    "hold_out_domains = pd.concat([hold_out_alexa, hold_out_dga], ignore_index=True)\n",
    "\n",
    "# Add a length field for the domain\n",
    "hold_out_domains['length'] = [len(x) for x in hold_out_domains['domain']]\n",
    "hold_out_domains = hold_out_domains[hold_out_domains['length'] > 6]\n",
    "\n",
    "hold_out_domains.head()"
   ]
  },
  {
   "cell_type": "code",
   "execution_count": null,
   "metadata": {},
   "outputs": [],
   "source": [
    "# Concatenate the domains in a big pile!\n",
    "all_domains = pd.concat([alexa_dataframe, dga_dataframe], ignore_index=True)\n",
    "\n",
    "# Add a length field for the domain\n",
    "all_domains['length'] = [len(x) for x in all_domains['domain']]\n",
    "\n",
    "# Since we're trying to detect dynamically generated domains, short\n",
    "# domains (length <=6) are crazy random even for 'legit' domains we're going\n",
    "# to punt on short domains (perhaps just white/black list for short domains?)\n",
    "all_domains = all_domains[all_domains['length'] > 6]"
   ]
  },
  {
   "cell_type": "markdown",
   "metadata": {},
   "source": [
    "### Background on N-Grams model\n",
    "\n",
    "The goal of a language model is to compute the probability of a sentence or sequence of words:  \n",
    "[TODO] Update theory\n",
    "\n",
    "<img src=\"./images/bigram_example.png\" alt=\"drawing\" width=\"800px\"/>\n",
    "\n",
    "Reference: \n",
    "1. [Stanford CS224n](https://www.youtube.com/watch?v=dkUtavsPqNA)"
   ]
  },
  {
   "cell_type": "code",
   "execution_count": 30,
   "metadata": {},
   "outputs": [],
   "source": [
    "from sklearn.feature_extraction.text import CountVectorizer\n",
    "import operator\n",
    "\n",
    "def ngram_extract(series, ngrams, analyzer='char', min_df=1e-4, max_df=1.0):\n",
    "    series = series.apply(lambda domain: ngrams*'#' + domain + '?')\n",
    "    cv = CountVectorizer(analyzer=analyzer, ngram_range=(ngrams,ngrams), min_df=min_df, max_df=max_df)\n",
    "    counts_matrix = cv.fit_transform(series)\n",
    "    ngrams_counts = counts_matrix.sum(axis=0).getA1()\n",
    "    ngrams_list = cv.get_feature_names()\n",
    "    ngrams_dict = dict(sorted(zip(ngrams_list, ngrams_counts), key=operator.itemgetter(1), reverse=True))\n",
    "    return ngrams_dict\n",
    "\n",
    "unigrams_vocb = ngram_extract(alexa_dataframe['domain'], ngrams=1) \n",
    "bigrams_vocb = ngram_extract(alexa_dataframe['domain'], ngrams=2)\n",
    "trigrams_vocb = ngram_extract(alexa_dataframe['domain'], ngrams=3)\n",
    "quadgrams_vocb = ngram_extract(alexa_dataframe['domain'], ngrams=4)"
   ]
  },
  {
   "cell_type": "code",
   "execution_count": 21,
   "metadata": {},
   "outputs": [],
   "source": [
    "'''Compute Ngram probabilities'''\n",
    "from nltk.util import ngrams\n",
    "\n",
    "# Default to Trigram Model\n",
    "def Ngram(domain, ngram_model=3, gram1_vocb=bigrams_vocb, gram2_vocb=trigrams_vocb):\n",
    "    grams1 = ngrams(domain, ngram_model-1)\n",
    "    grams2 = ngrams(domain, ngram_model)\n",
    "    grams1_list = [''.join(g) for g in grams1]\n",
    "    grams2_list = [''.join(g) for g in grams2]\n",
    "\n",
    "    V_size = len(gram2_vocb)\n",
    "    grams1_counter = {}\n",
    "    grams2_counter = {}\n",
    "    for g in grams2_list:\n",
    "        if g in gram2_vocb:\n",
    "            grams2_counter[g] = gram2_vocb[g]\n",
    "        else:\n",
    "            grams2_counter[g] = 0\n",
    "\n",
    "    for g in grams1_list:\n",
    "        if g in gram1_vocb:\n",
    "            grams1_counter[g] = gram1_vocb[g]\n",
    "        else:\n",
    "            grams1_counter[g] = 0\n",
    "\n",
    "    prob_list = []\n",
    "    for i,v in enumerate(grams2_list):\n",
    "        prob = (grams2_counter[v] + 1.0) / (grams1_counter[grams1_list[i]] + V_size)\n",
    "        prob_list.append(-np.log(prob))\n",
    "    \n",
    "    #print(list(zip(grams2_list, prob_list)))\n",
    "    return np.array(prob_list).sum()"
   ]
  },
  {
   "cell_type": "code",
   "execution_count": 81,
   "metadata": {},
   "outputs": [
    {
     "data": {
      "text/html": [
       "<div>\n",
       "<style scoped>\n",
       "    .dataframe tbody tr th:only-of-type {\n",
       "        vertical-align: middle;\n",
       "    }\n",
       "\n",
       "    .dataframe tbody tr th {\n",
       "        vertical-align: top;\n",
       "    }\n",
       "\n",
       "    .dataframe thead th {\n",
       "        text-align: right;\n",
       "    }\n",
       "</style>\n",
       "<table border=\"1\" class=\"dataframe\">\n",
       "  <thead>\n",
       "    <tr style=\"text-align: right;\">\n",
       "      <th></th>\n",
       "      <th>domain</th>\n",
       "      <th>class</th>\n",
       "      <th>length</th>\n",
       "      <th>alexa_2grams</th>\n",
       "      <th>alexa_3grams</th>\n",
       "      <th>alexa_4grams</th>\n",
       "      <th>alexa_nGrams</th>\n",
       "    </tr>\n",
       "  </thead>\n",
       "  <tbody>\n",
       "    <tr>\n",
       "      <th>0</th>\n",
       "      <td>extrabookmarking</td>\n",
       "      <td>legit</td>\n",
       "      <td>16</td>\n",
       "      <td>40.034400</td>\n",
       "      <td>43.234158</td>\n",
       "      <td>60.446496</td>\n",
       "      <td>47.437932</td>\n",
       "    </tr>\n",
       "    <tr>\n",
       "      <th>1</th>\n",
       "      <td>digitalbuzzblog</td>\n",
       "      <td>legit</td>\n",
       "      <td>15</td>\n",
       "      <td>42.640229</td>\n",
       "      <td>57.179931</td>\n",
       "      <td>78.359094</td>\n",
       "      <td>59.171770</td>\n",
       "    </tr>\n",
       "    <tr>\n",
       "      <th>2</th>\n",
       "      <td>stargundem</td>\n",
       "      <td>legit</td>\n",
       "      <td>10</td>\n",
       "      <td>24.161253</td>\n",
       "      <td>30.927542</td>\n",
       "      <td>45.077827</td>\n",
       "      <td>33.142741</td>\n",
       "    </tr>\n",
       "    <tr>\n",
       "      <th>3</th>\n",
       "      <td>loveinfographics</td>\n",
       "      <td>legit</td>\n",
       "      <td>16</td>\n",
       "      <td>42.934976</td>\n",
       "      <td>56.185013</td>\n",
       "      <td>74.925934</td>\n",
       "      <td>57.832278</td>\n",
       "    </tr>\n",
       "    <tr>\n",
       "      <th>4</th>\n",
       "      <td>gvodirecto</td>\n",
       "      <td>legit</td>\n",
       "      <td>10</td>\n",
       "      <td>26.778021</td>\n",
       "      <td>28.297968</td>\n",
       "      <td>37.465534</td>\n",
       "      <td>30.592254</td>\n",
       "    </tr>\n",
       "  </tbody>\n",
       "</table>\n",
       "</div>"
      ],
      "text/plain": [
       "             domain  class  length  alexa_2grams  alexa_3grams  alexa_4grams  \\\n",
       "0  extrabookmarking  legit      16     40.034400     43.234158     60.446496   \n",
       "1   digitalbuzzblog  legit      15     42.640229     57.179931     78.359094   \n",
       "2        stargundem  legit      10     24.161253     30.927542     45.077827   \n",
       "3  loveinfographics  legit      16     42.934976     56.185013     74.925934   \n",
       "4        gvodirecto  legit      10     26.778021     28.297968     37.465534   \n",
       "\n",
       "   alexa_nGrams  \n",
       "0     47.437932  \n",
       "1     59.171770  \n",
       "2     33.142741  \n",
       "3     57.832278  \n",
       "4     30.592254  "
      ]
     },
     "execution_count": 81,
     "metadata": {},
     "output_type": "execute_result"
    }
   ],
   "source": [
    "all_domains['alexa_2grams'] = all_domains['domain'].apply(lambda domain: Ngram(domain, ngram_model=2, gram1_vocb=unigrams_vocb, gram2_vocb=bigrams_vocb))\n",
    "all_domains['alexa_3grams'] = all_domains['domain'].apply(lambda domain: Ngram(domain, ngram_model=3, gram1_vocb=bigrams_vocb, gram2_vocb=trigrams_vocb))\n",
    "all_domains['alexa_4grams'] = all_domains['domain'].apply(lambda domain: Ngram(domain, ngram_model=4, gram1_vocb=trigrams_vocb, gram2_vocb=quadgrams_vocb))\n",
    "\n",
    "'''Linear Interpolation'''\n",
    "lam2 = 0.3\n",
    "lam3 = 0.4\n",
    "lam4 = 0.3\n",
    "all_domains['alexa_nGrams'] = lam2 * all_domains['alexa_2grams'] + lam3 * all_domains['alexa_3grams'] + lam4 * all_domains['alexa_4grams']\n",
    "\n",
    "all_domains.head()"
   ]
  },
  {
   "cell_type": "code",
   "execution_count": 24,
   "metadata": {},
   "outputs": [],
   "source": [
    "def plot2Dfeatures(df, dim1, dim2, condition):\n",
    "    \"\"\"\n",
    "    Problem 3b:\n",
    "    Write the plot function to generate a scatterplot of DGA and legit domains\n",
    "    \"\"\"\n",
    "    # Write your code here.\n",
    "    dga_df = df[condition]\n",
    "    legit_df = df[~condition]\n",
    "    plt.scatter(legit_df[dim1].values, legit_df[dim2].values, c='cyan', alpha=0.2, s=140, label='Legit')\n",
    "    plt.scatter(dga_df[dim1].values, dga_df[dim2].values, c='black', alpha=0.3, s=80, label='DGA')\n",
    "    plt.xlabel('domain ' + dim1)\n",
    "    plt.ylabel('domain ' + dim2)\n",
    "    plt.legend(loc=1)\n",
    "    plt.show()"
   ]
  },
  {
   "cell_type": "code",
   "execution_count": 25,
   "metadata": {},
   "outputs": [
    {
     "data": {
      "image/png": "[encoded data removed]",
      "text/plain": [
       "<matplotlib.figure.Figure at 0x7fbc6a739278>"
      ]
     },
     "metadata": {},
     "output_type": "display_data"
    }
   ],
   "source": [
    "condition = all_domains['class'] == 'dga'\n",
    "plot2Dfeatures(all_domains, 'length', 'alexa_2grams', condition)"
   ]
  },
  {
   "cell_type": "code",
   "execution_count": 26,
   "metadata": {},
   "outputs": [
    {
     "data": {
      "image/png": "[encoded data removed]",
      "text/plain": [
       "<matplotlib.figure.Figure at 0x7fbc6a77a898>"
      ]
     },
     "metadata": {},
     "output_type": "display_data"
    }
   ],
   "source": [
    "condition = all_domains['class'] == 'dga'\n",
    "plot2Dfeatures(all_domains, 'length', 'alexa_3grams', condition)"
   ]
  },
  {
   "cell_type": "code",
   "execution_count": 34,
   "metadata": {},
   "outputs": [
    {
     "data": {
      "image/png": "[encoded data removed]",
      "text/plain": [
       "<matplotlib.figure.Figure at 0x7fbc6a7ad828>"
      ]
     },
     "metadata": {},
     "output_type": "display_data"
    }
   ],
   "source": [
    "condition = all_domains['class'] == 'dga'\n",
    "plot2Dfeatures(all_domains, 'length', 'alexa_4grams', condition)"
   ]
  },
  {
   "cell_type": "markdown",
   "metadata": {},
   "source": [
    "Notice that the "
   ]
  },
  {
   "cell_type": "code",
   "execution_count": 69,
   "metadata": {},
   "outputs": [
    {
     "data": {
      "text/html": [
       "<div>\n",
       "<style scoped>\n",
       "    .dataframe tbody tr th:only-of-type {\n",
       "        vertical-align: middle;\n",
       "    }\n",
       "\n",
       "    .dataframe tbody tr th {\n",
       "        vertical-align: top;\n",
       "    }\n",
       "\n",
       "    .dataframe thead th {\n",
       "        text-align: right;\n",
       "    }\n",
       "</style>\n",
       "<table border=\"1\" class=\"dataframe\">\n",
       "  <thead>\n",
       "    <tr style=\"text-align: right;\">\n",
       "      <th></th>\n",
       "      <th>domain</th>\n",
       "      <th>class</th>\n",
       "      <th>length</th>\n",
       "      <th>alexa_2grams</th>\n",
       "      <th>alexa_3grams</th>\n",
       "      <th>alexa_4grams</th>\n",
       "      <th>alexa_nGrams</th>\n",
       "    </tr>\n",
       "  </thead>\n",
       "  <tbody>\n",
       "    <tr>\n",
       "      <th>9137</th>\n",
       "      <td>uohkxtp</td>\n",
       "      <td>dga</td>\n",
       "      <td>7</td>\n",
       "      <td>28.718486</td>\n",
       "      <td>45.168583</td>\n",
       "      <td>38.463489</td>\n",
       "      <td>26.682979</td>\n",
       "    </tr>\n",
       "    <tr>\n",
       "      <th>9138</th>\n",
       "      <td>uoiklxlh</td>\n",
       "      <td>dga</td>\n",
       "      <td>8</td>\n",
       "      <td>33.209301</td>\n",
       "      <td>48.915546</td>\n",
       "      <td>48.081226</td>\n",
       "      <td>29.529009</td>\n",
       "    </tr>\n",
       "    <tr>\n",
       "      <th>9139</th>\n",
       "      <td>uolsugtlg</td>\n",
       "      <td>dga</td>\n",
       "      <td>9</td>\n",
       "      <td>31.863814</td>\n",
       "      <td>48.491665</td>\n",
       "      <td>57.712104</td>\n",
       "      <td>28.955810</td>\n",
       "    </tr>\n",
       "    <tr>\n",
       "      <th>9140</th>\n",
       "      <td>upcwkvg</td>\n",
       "      <td>dga</td>\n",
       "      <td>7</td>\n",
       "      <td>29.447183</td>\n",
       "      <td>42.235329</td>\n",
       "      <td>38.464754</td>\n",
       "      <td>25.728287</td>\n",
       "    </tr>\n",
       "    <tr>\n",
       "      <th>9143</th>\n",
       "      <td>upywkhyo</td>\n",
       "      <td>dga</td>\n",
       "      <td>8</td>\n",
       "      <td>28.545432</td>\n",
       "      <td>51.810634</td>\n",
       "      <td>48.079361</td>\n",
       "      <td>29.287883</td>\n",
       "    </tr>\n",
       "  </tbody>\n",
       "</table>\n",
       "</div>"
      ],
      "text/plain": [
       "         domain class  length  alexa_2grams  alexa_3grams  alexa_4grams  \\\n",
       "9137    uohkxtp   dga       7     28.718486     45.168583     38.463489   \n",
       "9138   uoiklxlh   dga       8     33.209301     48.915546     48.081226   \n",
       "9139  uolsugtlg   dga       9     31.863814     48.491665     57.712104   \n",
       "9140    upcwkvg   dga       7     29.447183     42.235329     38.464754   \n",
       "9143   upywkhyo   dga       8     28.545432     51.810634     48.079361   \n",
       "\n",
       "      alexa_nGrams  \n",
       "9137     26.682979  \n",
       "9138     29.529009  \n",
       "9139     28.955810  \n",
       "9140     25.728287  \n",
       "9143     29.287883  "
      ]
     },
     "execution_count": 69,
     "metadata": {},
     "output_type": "execute_result"
    }
   ],
   "source": [
    "hold_out_domains[(hold_out_domains['class']=='dga') & (hold_out_domains['alexa_nGrams'] < 35)].head()"
   ]
  },
  {
   "cell_type": "code",
   "execution_count": 80,
   "metadata": {},
   "outputs": [
    {
     "name": "stderr",
     "output_type": "stream",
     "text": [
      "/home/darklord/anaconda3/lib/python3.6/site-packages/ipykernel_launcher.py:2: UserWarning: Boolean Series key will be reindexed to match DataFrame index.\n",
      "  \n"
     ]
    },
    {
     "ename": "IndexingError",
     "evalue": "Unalignable boolean Series provided as indexer (index of the boolean Series and of the indexed object do not match",
     "output_type": "error",
     "traceback": [
      "\u001b[0;31m---------------------------------------------------------------------------\u001b[0m",
      "\u001b[0;31mIndexingError\u001b[0m                             Traceback (most recent call last)",
      "\u001b[0;32m<ipython-input-80-5e9cabd4a93b>\u001b[0m in \u001b[0;36m<module>\u001b[0;34m()\u001b[0m\n\u001b[1;32m      1\u001b[0m \u001b[0mweird_cond\u001b[0m \u001b[0;34m=\u001b[0m \u001b[0;34m(\u001b[0m\u001b[0mhold_out_domains\u001b[0m\u001b[0;34m[\u001b[0m\u001b[0;34m'class'\u001b[0m\u001b[0;34m]\u001b[0m\u001b[0;34m==\u001b[0m\u001b[0;34m'legit'\u001b[0m\u001b[0;34m)\u001b[0m \u001b[0;34m&\u001b[0m \u001b[0;34m(\u001b[0m\u001b[0mhold_out_domains\u001b[0m\u001b[0;34m[\u001b[0m\u001b[0;34m'alexa_nGrams'\u001b[0m\u001b[0;34m]\u001b[0m \u001b[0;34m<\u001b[0m \u001b[0;36m20\u001b[0m\u001b[0;34m)\u001b[0m\u001b[0;34m\u001b[0m\u001b[0m\n\u001b[0;32m----> 2\u001b[0;31m \u001b[0mweird\u001b[0m \u001b[0;34m=\u001b[0m \u001b[0mall_domains\u001b[0m\u001b[0;34m[\u001b[0m\u001b[0mweird_cond\u001b[0m\u001b[0;34m]\u001b[0m\u001b[0;34m\u001b[0m\u001b[0m\n\u001b[0m\u001b[1;32m      3\u001b[0m \u001b[0mprint\u001b[0m\u001b[0;34m(\u001b[0m\u001b[0mweird\u001b[0m\u001b[0;34m.\u001b[0m\u001b[0mshape\u001b[0m\u001b[0;34m[\u001b[0m\u001b[0;36m0\u001b[0m\u001b[0;34m]\u001b[0m\u001b[0;34m)\u001b[0m\u001b[0;34m\u001b[0m\u001b[0m\n\u001b[1;32m      4\u001b[0m \u001b[0mweird\u001b[0m\u001b[0;34m.\u001b[0m\u001b[0mhead\u001b[0m\u001b[0;34m(\u001b[0m\u001b[0;34m)\u001b[0m\u001b[0;34m\u001b[0m\u001b[0m\n",
      "\u001b[0;32m~/anaconda3/lib/python3.6/site-packages/pandas/core/frame.py\u001b[0m in \u001b[0;36m__getitem__\u001b[0;34m(self, key)\u001b[0m\n\u001b[1;32m   2677\u001b[0m         \u001b[0;32mif\u001b[0m \u001b[0misinstance\u001b[0m\u001b[0;34m(\u001b[0m\u001b[0mkey\u001b[0m\u001b[0;34m,\u001b[0m \u001b[0;34m(\u001b[0m\u001b[0mSeries\u001b[0m\u001b[0;34m,\u001b[0m \u001b[0mnp\u001b[0m\u001b[0;34m.\u001b[0m\u001b[0mndarray\u001b[0m\u001b[0;34m,\u001b[0m \u001b[0mIndex\u001b[0m\u001b[0;34m,\u001b[0m \u001b[0mlist\u001b[0m\u001b[0;34m)\u001b[0m\u001b[0;34m)\u001b[0m\u001b[0;34m:\u001b[0m\u001b[0;34m\u001b[0m\u001b[0m\n\u001b[1;32m   2678\u001b[0m             \u001b[0;31m# either boolean or fancy integer index\u001b[0m\u001b[0;34m\u001b[0m\u001b[0;34m\u001b[0m\u001b[0m\n\u001b[0;32m-> 2679\u001b[0;31m             \u001b[0;32mreturn\u001b[0m \u001b[0mself\u001b[0m\u001b[0;34m.\u001b[0m\u001b[0m_getitem_array\u001b[0m\u001b[0;34m(\u001b[0m\u001b[0mkey\u001b[0m\u001b[0;34m)\u001b[0m\u001b[0;34m\u001b[0m\u001b[0m\n\u001b[0m\u001b[1;32m   2680\u001b[0m         \u001b[0;32melif\u001b[0m \u001b[0misinstance\u001b[0m\u001b[0;34m(\u001b[0m\u001b[0mkey\u001b[0m\u001b[0;34m,\u001b[0m \u001b[0mDataFrame\u001b[0m\u001b[0;34m)\u001b[0m\u001b[0;34m:\u001b[0m\u001b[0;34m\u001b[0m\u001b[0m\n\u001b[1;32m   2681\u001b[0m             \u001b[0;32mreturn\u001b[0m \u001b[0mself\u001b[0m\u001b[0;34m.\u001b[0m\u001b[0m_getitem_frame\u001b[0m\u001b[0;34m(\u001b[0m\u001b[0mkey\u001b[0m\u001b[0;34m)\u001b[0m\u001b[0;34m\u001b[0m\u001b[0m\n",
      "\u001b[0;32m~/anaconda3/lib/python3.6/site-packages/pandas/core/frame.py\u001b[0m in \u001b[0;36m_getitem_array\u001b[0;34m(self, key)\u001b[0m\n\u001b[1;32m   2717\u001b[0m             \u001b[0;31m# check_bool_indexer will throw exception if Series key cannot\u001b[0m\u001b[0;34m\u001b[0m\u001b[0;34m\u001b[0m\u001b[0m\n\u001b[1;32m   2718\u001b[0m             \u001b[0;31m# be reindexed to match DataFrame rows\u001b[0m\u001b[0;34m\u001b[0m\u001b[0;34m\u001b[0m\u001b[0m\n\u001b[0;32m-> 2719\u001b[0;31m             \u001b[0mkey\u001b[0m \u001b[0;34m=\u001b[0m \u001b[0mcheck_bool_indexer\u001b[0m\u001b[0;34m(\u001b[0m\u001b[0mself\u001b[0m\u001b[0;34m.\u001b[0m\u001b[0mindex\u001b[0m\u001b[0;34m,\u001b[0m \u001b[0mkey\u001b[0m\u001b[0;34m)\u001b[0m\u001b[0;34m\u001b[0m\u001b[0m\n\u001b[0m\u001b[1;32m   2720\u001b[0m             \u001b[0mindexer\u001b[0m \u001b[0;34m=\u001b[0m \u001b[0mkey\u001b[0m\u001b[0;34m.\u001b[0m\u001b[0mnonzero\u001b[0m\u001b[0;34m(\u001b[0m\u001b[0;34m)\u001b[0m\u001b[0;34m[\u001b[0m\u001b[0;36m0\u001b[0m\u001b[0;34m]\u001b[0m\u001b[0;34m\u001b[0m\u001b[0m\n\u001b[1;32m   2721\u001b[0m             \u001b[0;32mreturn\u001b[0m \u001b[0mself\u001b[0m\u001b[0;34m.\u001b[0m\u001b[0m_take\u001b[0m\u001b[0;34m(\u001b[0m\u001b[0mindexer\u001b[0m\u001b[0;34m,\u001b[0m \u001b[0maxis\u001b[0m\u001b[0;34m=\u001b[0m\u001b[0;36m0\u001b[0m\u001b[0;34m)\u001b[0m\u001b[0;34m\u001b[0m\u001b[0m\n",
      "\u001b[0;32m~/anaconda3/lib/python3.6/site-packages/pandas/core/indexing.py\u001b[0m in \u001b[0;36mcheck_bool_indexer\u001b[0;34m(ax, key)\u001b[0m\n\u001b[1;32m   2354\u001b[0m         \u001b[0mmask\u001b[0m \u001b[0;34m=\u001b[0m \u001b[0misna\u001b[0m\u001b[0;34m(\u001b[0m\u001b[0mresult\u001b[0m\u001b[0;34m.\u001b[0m\u001b[0m_values\u001b[0m\u001b[0;34m)\u001b[0m\u001b[0;34m\u001b[0m\u001b[0m\n\u001b[1;32m   2355\u001b[0m         \u001b[0;32mif\u001b[0m \u001b[0mmask\u001b[0m\u001b[0;34m.\u001b[0m\u001b[0many\u001b[0m\u001b[0;34m(\u001b[0m\u001b[0;34m)\u001b[0m\u001b[0;34m:\u001b[0m\u001b[0;34m\u001b[0m\u001b[0m\n\u001b[0;32m-> 2356\u001b[0;31m             raise IndexingError('Unalignable boolean Series provided as '\n\u001b[0m\u001b[1;32m   2357\u001b[0m                                 \u001b[0;34m'indexer (index of the boolean Series and of '\u001b[0m\u001b[0;34m\u001b[0m\u001b[0m\n\u001b[1;32m   2358\u001b[0m                                 'the indexed object do not match')\n",
      "\u001b[0;31mIndexingError\u001b[0m: Unalignable boolean Series provided as indexer (index of the boolean Series and of the indexed object do not match"
     ]
    }
   ],
   "source": [
    "weird_cond = (hold_out_domains['class']=='legit') & (all['alexa_nGrams'] < 20)\n",
    "weird = all_domains[weird_cond]\n",
    "print(weird.shape[0])\n",
    "weird.head()"
   ]
  },
  {
   "cell_type": "code",
   "execution_count": null,
   "metadata": {},
   "outputs": [],
   "source": []
  },
  {
   "cell_type": "code",
   "execution_count": 79,
   "metadata": {},
   "outputs": [
    {
     "ename": "IndexingError",
     "evalue": "(0       False\n1       False\n2       False\n3       False\n5       False\n8       False\n9       False\n11      False\n12      False\n13      False\n15      False\n19      False\n20      False\n22      False\n24      False\n26      False\n27      False\n28      False\n30      False\n31      False\n32      False\n33      False\n37      False\n38      False\n41      False\n42      False\n43      False\n44      False\n46      False\n47      False\n        ...  \n9374    False\n9375    False\n9376    False\n9377    False\n9378    False\n9379    False\n9380    False\n9381    False\n9382    False\n9383    False\n9384    False\n9385    False\n9386    False\n9387    False\n9388    False\n9389    False\n9390    False\n9391    False\n9392    False\n9393    False\n9394    False\n9395    False\n9396    False\n9397    False\n9398    False\n9399    False\n9400    False\n9401    False\n9402    False\n9403    False\nLength: 6959, dtype: bool, 'class')",
     "output_type": "error",
     "traceback": [
      "\u001b[0;31m---------------------------------------------------------------------------\u001b[0m",
      "\u001b[0;31mTypeError\u001b[0m                                 Traceback (most recent call last)",
      "\u001b[0;32m~/anaconda3/lib/python3.6/site-packages/pandas/core/indexing.py\u001b[0m in \u001b[0;36m_get_setitem_indexer\u001b[0;34m(self, key)\u001b[0m\n\u001b[1;32m    173\u001b[0m         \u001b[0;32mtry\u001b[0m\u001b[0;34m:\u001b[0m\u001b[0;34m\u001b[0m\u001b[0m\n\u001b[0;32m--> 174\u001b[0;31m             \u001b[0;32mreturn\u001b[0m \u001b[0mself\u001b[0m\u001b[0;34m.\u001b[0m\u001b[0m_convert_to_indexer\u001b[0m\u001b[0;34m(\u001b[0m\u001b[0mkey\u001b[0m\u001b[0;34m,\u001b[0m \u001b[0mis_setter\u001b[0m\u001b[0;34m=\u001b[0m\u001b[0;32mTrue\u001b[0m\u001b[0;34m)\u001b[0m\u001b[0;34m\u001b[0m\u001b[0m\n\u001b[0m\u001b[1;32m    175\u001b[0m         \u001b[0;32mexcept\u001b[0m \u001b[0mTypeError\u001b[0m \u001b[0;32mas\u001b[0m \u001b[0me\u001b[0m\u001b[0;34m:\u001b[0m\u001b[0;34m\u001b[0m\u001b[0m\n",
      "\u001b[0;32m~/anaconda3/lib/python3.6/site-packages/pandas/core/indexing.py\u001b[0m in \u001b[0;36m_convert_to_indexer\u001b[0;34m(self, obj, axis, is_setter)\u001b[0m\n\u001b[1;32m   1313\u001b[0m                 \u001b[0;32mif\u001b[0m \u001b[0mlabels\u001b[0m\u001b[0;34m.\u001b[0m\u001b[0mis_unique\u001b[0m\u001b[0;34m:\u001b[0m\u001b[0;34m\u001b[0m\u001b[0m\n\u001b[0;32m-> 1314\u001b[0;31m                     \u001b[0mindexer\u001b[0m \u001b[0;34m=\u001b[0m \u001b[0mcheck\u001b[0m \u001b[0;34m=\u001b[0m \u001b[0mlabels\u001b[0m\u001b[0;34m.\u001b[0m\u001b[0mget_indexer\u001b[0m\u001b[0;34m(\u001b[0m\u001b[0mobjarr\u001b[0m\u001b[0;34m)\u001b[0m\u001b[0;34m\u001b[0m\u001b[0m\n\u001b[0m\u001b[1;32m   1315\u001b[0m \u001b[0;34m\u001b[0m\u001b[0m\n",
      "\u001b[0;32m~/anaconda3/lib/python3.6/site-packages/pandas/core/indexes/base.py\u001b[0m in \u001b[0;36mget_indexer\u001b[0;34m(self, target, method, limit, tolerance)\u001b[0m\n\u001b[1;32m   3225\u001b[0m             return this.get_indexer(target, method=method, limit=limit,\n\u001b[0;32m-> 3226\u001b[0;31m                                     tolerance=tolerance)\n\u001b[0m\u001b[1;32m   3227\u001b[0m \u001b[0;34m\u001b[0m\u001b[0m\n",
      "\u001b[0;32m~/anaconda3/lib/python3.6/site-packages/pandas/core/indexes/base.py\u001b[0m in \u001b[0;36mget_indexer\u001b[0;34m(self, target, method, limit, tolerance)\u001b[0m\n\u001b[1;32m   3243\u001b[0m \u001b[0;34m\u001b[0m\u001b[0m\n\u001b[0;32m-> 3244\u001b[0;31m             \u001b[0mindexer\u001b[0m \u001b[0;34m=\u001b[0m \u001b[0mself\u001b[0m\u001b[0;34m.\u001b[0m\u001b[0m_engine\u001b[0m\u001b[0;34m.\u001b[0m\u001b[0mget_indexer\u001b[0m\u001b[0;34m(\u001b[0m\u001b[0mtarget\u001b[0m\u001b[0;34m.\u001b[0m\u001b[0m_ndarray_values\u001b[0m\u001b[0;34m)\u001b[0m\u001b[0;34m\u001b[0m\u001b[0m\n\u001b[0m\u001b[1;32m   3245\u001b[0m \u001b[0;34m\u001b[0m\u001b[0m\n",
      "\u001b[0;32mpandas/_libs/index.pyx\u001b[0m in \u001b[0;36mpandas._libs.index.IndexEngine.get_indexer\u001b[0;34m()\u001b[0m\n",
      "\u001b[0;32mpandas/_libs/hashtable_class_helper.pxi\u001b[0m in \u001b[0;36mpandas._libs.hashtable.PyObjectHashTable.lookup\u001b[0;34m()\u001b[0m\n",
      "\u001b[0;32m~/anaconda3/lib/python3.6/site-packages/pandas/core/generic.py\u001b[0m in \u001b[0;36m__hash__\u001b[0;34m(self)\u001b[0m\n\u001b[1;32m   1488\u001b[0m         raise TypeError('{0!r} objects are mutable, thus they cannot be'\n\u001b[0;32m-> 1489\u001b[0;31m                         ' hashed'.format(self.__class__.__name__))\n\u001b[0m\u001b[1;32m   1490\u001b[0m \u001b[0;34m\u001b[0m\u001b[0m\n",
      "\u001b[0;31mTypeError\u001b[0m: 'Series' objects are mutable, thus they cannot be hashed",
      "\nDuring handling of the above exception, another exception occurred:\n",
      "\u001b[0;31mIndexingError\u001b[0m                             Traceback (most recent call last)",
      "\u001b[0;32m<ipython-input-79-c716465b43ef>\u001b[0m in \u001b[0;36m<module>\u001b[0;34m()\u001b[0m\n\u001b[0;32m----> 1\u001b[0;31m \u001b[0mall_domains\u001b[0m\u001b[0;34m.\u001b[0m\u001b[0mloc\u001b[0m\u001b[0;34m[\u001b[0m\u001b[0mweird_cond\u001b[0m\u001b[0;34m,\u001b[0m \u001b[0;34m'class'\u001b[0m\u001b[0;34m]\u001b[0m \u001b[0;34m=\u001b[0m \u001b[0;34m'weird'\u001b[0m\u001b[0;34m\u001b[0m\u001b[0m\n\u001b[0m\u001b[1;32m      2\u001b[0m \u001b[0;31m#print(all_domains['class'].value_counts())\u001b[0m\u001b[0;34m\u001b[0m\u001b[0;34m\u001b[0m\u001b[0m\n\u001b[1;32m      3\u001b[0m \u001b[0;31m#all_domains[all_domains['class'] == 'weird'].head()\u001b[0m\u001b[0;34m\u001b[0m\u001b[0;34m\u001b[0m\u001b[0m\n",
      "\u001b[0;32m~/anaconda3/lib/python3.6/site-packages/pandas/core/indexing.py\u001b[0m in \u001b[0;36m__setitem__\u001b[0;34m(self, key, value)\u001b[0m\n\u001b[1;32m    186\u001b[0m         \u001b[0;32melse\u001b[0m\u001b[0;34m:\u001b[0m\u001b[0;34m\u001b[0m\u001b[0m\n\u001b[1;32m    187\u001b[0m             \u001b[0mkey\u001b[0m \u001b[0;34m=\u001b[0m \u001b[0mcom\u001b[0m\u001b[0;34m.\u001b[0m\u001b[0m_apply_if_callable\u001b[0m\u001b[0;34m(\u001b[0m\u001b[0mkey\u001b[0m\u001b[0;34m,\u001b[0m \u001b[0mself\u001b[0m\u001b[0;34m.\u001b[0m\u001b[0mobj\u001b[0m\u001b[0;34m)\u001b[0m\u001b[0;34m\u001b[0m\u001b[0m\n\u001b[0;32m--> 188\u001b[0;31m         \u001b[0mindexer\u001b[0m \u001b[0;34m=\u001b[0m \u001b[0mself\u001b[0m\u001b[0;34m.\u001b[0m\u001b[0m_get_setitem_indexer\u001b[0m\u001b[0;34m(\u001b[0m\u001b[0mkey\u001b[0m\u001b[0;34m)\u001b[0m\u001b[0;34m\u001b[0m\u001b[0m\n\u001b[0m\u001b[1;32m    189\u001b[0m         \u001b[0mself\u001b[0m\u001b[0;34m.\u001b[0m\u001b[0m_setitem_with_indexer\u001b[0m\u001b[0;34m(\u001b[0m\u001b[0mindexer\u001b[0m\u001b[0;34m,\u001b[0m \u001b[0mvalue\u001b[0m\u001b[0;34m)\u001b[0m\u001b[0;34m\u001b[0m\u001b[0m\n\u001b[1;32m    190\u001b[0m \u001b[0;34m\u001b[0m\u001b[0m\n",
      "\u001b[0;32m~/anaconda3/lib/python3.6/site-packages/pandas/core/indexing.py\u001b[0m in \u001b[0;36m_get_setitem_indexer\u001b[0;34m(self, key)\u001b[0m\n\u001b[1;32m    178\u001b[0m             \u001b[0;32mif\u001b[0m \u001b[0;34m'cannot do'\u001b[0m \u001b[0;32min\u001b[0m \u001b[0mstr\u001b[0m\u001b[0;34m(\u001b[0m\u001b[0me\u001b[0m\u001b[0;34m)\u001b[0m\u001b[0;34m:\u001b[0m\u001b[0;34m\u001b[0m\u001b[0m\n\u001b[1;32m    179\u001b[0m                 \u001b[0;32mraise\u001b[0m\u001b[0;34m\u001b[0m\u001b[0m\n\u001b[0;32m--> 180\u001b[0;31m             \u001b[0;32mraise\u001b[0m \u001b[0mIndexingError\u001b[0m\u001b[0;34m(\u001b[0m\u001b[0mkey\u001b[0m\u001b[0;34m)\u001b[0m\u001b[0;34m\u001b[0m\u001b[0m\n\u001b[0m\u001b[1;32m    181\u001b[0m \u001b[0;34m\u001b[0m\u001b[0m\n\u001b[1;32m    182\u001b[0m     \u001b[0;32mdef\u001b[0m \u001b[0m__setitem__\u001b[0m\u001b[0;34m(\u001b[0m\u001b[0mself\u001b[0m\u001b[0;34m,\u001b[0m \u001b[0mkey\u001b[0m\u001b[0;34m,\u001b[0m \u001b[0mvalue\u001b[0m\u001b[0;34m)\u001b[0m\u001b[0;34m:\u001b[0m\u001b[0;34m\u001b[0m\u001b[0m\n",
      "\u001b[0;31mIndexingError\u001b[0m: (0       False\n1       False\n2       False\n3       False\n5       False\n8       False\n9       False\n11      False\n12      False\n13      False\n15      False\n19      False\n20      False\n22      False\n24      False\n26      False\n27      False\n28      False\n30      False\n31      False\n32      False\n33      False\n37      False\n38      False\n41      False\n42      False\n43      False\n44      False\n46      False\n47      False\n        ...  \n9374    False\n9375    False\n9376    False\n9377    False\n9378    False\n9379    False\n9380    False\n9381    False\n9382    False\n9383    False\n9384    False\n9385    False\n9386    False\n9387    False\n9388    False\n9389    False\n9390    False\n9391    False\n9392    False\n9393    False\n9394    False\n9395    False\n9396    False\n9397    False\n9398    False\n9399    False\n9400    False\n9401    False\n9402    False\n9403    False\nLength: 6959, dtype: bool, 'class')"
     ]
    }
   ],
   "source": [
    "all_domains.loc[weird_cond, 'class'] = 'weird'\n",
    "#print(all_domains['class'].value_counts())\n",
    "#all_domains[all_domains['class'] == 'weird'].head()"
   ]
  },
  {
   "cell_type": "code",
   "execution_count": null,
   "metadata": {},
   "outputs": [],
   "source": []
  },
  {
   "cell_type": "code",
   "execution_count": null,
   "metadata": {},
   "outputs": [],
   "source": []
  },
  {
   "cell_type": "code",
   "execution_count": null,
   "metadata": {},
   "outputs": [],
   "source": []
  },
  {
   "cell_type": "code",
   "execution_count": null,
   "metadata": {},
   "outputs": [],
   "source": []
  },
  {
   "cell_type": "code",
   "execution_count": null,
   "metadata": {},
   "outputs": [],
   "source": []
  },
  {
   "cell_type": "code",
   "execution_count": null,
   "metadata": {},
   "outputs": [],
   "source": []
  },
  {
   "cell_type": "code",
   "execution_count": null,
   "metadata": {},
   "outputs": [],
   "source": [
    "\n"
   ]
  },
  {
   "cell_type": "code",
   "execution_count": null,
   "metadata": {},
   "outputs": [],
   "source": [
    "hold_out_domains['alexa_2grams'] = hold_out_domains['domain'].apply(lambda domain: Ngram(domain, ngram_model=2, gram1_vocb=unigrams_vocb, gram2_vocb=bigrams_vocb))\n",
    "hold_out_domains['alexa_3grams'] = hold_out_domains['domain'].apply(lambda domain: Ngram(domain, ngram_model=3, gram1_vocb=bigrams_vocb, gram2_vocb=trigrams_vocb))\n",
    "hold_out_domains['alexa_4grams'] = hold_out_domains['domain'].apply(lambda domain: Ngram(domain, ngram_model=4, gram1_vocb=trigrams_vocb, gram2_vocb=quadgrams_vocb))\n",
    "\n",
    "'''Linear Interpolation'''\n",
    "lam2 = 0.3\n",
    "lam3 = 0.4\n",
    "lam4 = 0.3\n",
    "hold_out_domains['alexa_nGrams'] = lam2 * hold_out_domains['alexa_2grams'] + lam3 * hold_out_domains['alexa_3grams'] + lam4 * hold_out_domains['alexa_4grams']\n",
    "\n",
    "hold_out_domains.head()"
   ]
  }
 ],
 "metadata": {
  "kernelspec": {
   "display_name": "Python 3",
   "language": "python",
   "name": "python3"
  },
  "language_info": {
   "codemirror_mode": {
    "name": "ipython",
    "version": 3
   },
   "file_extension": ".py",
   "mimetype": "text/x-python",
   "name": "python",
   "nbconvert_exporter": "python",
   "pygments_lexer": "ipython3",
   "version": "3.6.4"
  }
 },
 "nbformat": 4,
 "nbformat_minor": 2
}
