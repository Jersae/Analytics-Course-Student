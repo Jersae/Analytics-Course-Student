{
 "cells": [
  {
   "cell_type": "markdown",
   "metadata": {},
   "source": [
    "### N-Grams Implementation for DGA detection\n",
    "\n",
    "- Concept: we want to teach the algorithm what should be “expected” as far as character combinations\n",
    "- We do that by figuring out what n-grams appear in legitimate domains and then calculate the difference\n",
    "\n",
    "Reference:\n",
    "1. [Stanford CS224n - Using nGrams for probabilistic langauge modeling](https://www.youtube.com/watch?v=dkUtavsPqNA)"
   ]
  },
  {
   "cell_type": "markdown",
   "metadata": {},
   "source": [
    "The goal in probabilistic modeling"
   ]
  },
  {
   "cell_type": "code",
   "execution_count": 2,
   "metadata": {},
   "outputs": [
    {
     "data": {
      "text/html": [
       "<style>.container { width:100% !important; }</style>"
      ],
      "text/plain": [
       "<IPython.core.display.HTML object>"
      ]
     },
     "metadata": {},
     "output_type": "display_data"
    }
   ],
   "source": [
    "# Setup\n",
    "import sklearn.feature_extraction\n",
    "import pandas as pd\n",
    "import numpy as np\n",
    "import pylab\n",
    "import tldextract\n",
    "import numpy as np\n",
    "\n",
    "from IPython.core.display import display, HTML\n",
    "display(HTML(\"<style>.container { width:100% !important; }</style>\"))\n",
    "\n",
    "# Set default pylab parameters to figure\n",
    "pylab.rcParams['figure.figsize'] = (14.0, 5.0)\n",
    "pylab.rcParams['axes.grid'] = True"
   ]
  },
  {
   "cell_type": "markdown",
   "metadata": {},
   "source": [
    "#### Prepare legit dataset"
   ]
  },
  {
   "cell_type": "code",
   "execution_count": 7,
   "metadata": {},
   "outputs": [
    {
     "name": "stdout",
     "output_type": "stream",
     "text": [
      "Total Alexa domains 91377\n",
      "Number of training Alexa domains: 82240\n"
     ]
    },
    {
     "data": {
      "text/html": [
       "<div>\n",
       "<style scoped>\n",
       "    .dataframe tbody tr th:only-of-type {\n",
       "        vertical-align: middle;\n",
       "    }\n",
       "\n",
       "    .dataframe tbody tr th {\n",
       "        vertical-align: top;\n",
       "    }\n",
       "\n",
       "    .dataframe thead th {\n",
       "        text-align: right;\n",
       "    }\n",
       "</style>\n",
       "<table border=\"1\" class=\"dataframe\">\n",
       "  <thead>\n",
       "    <tr style=\"text-align: right;\">\n",
       "      <th></th>\n",
       "      <th>domain</th>\n",
       "      <th>class</th>\n",
       "    </tr>\n",
       "  </thead>\n",
       "  <tbody>\n",
       "    <tr>\n",
       "      <th>13204</th>\n",
       "      <td>truetwit</td>\n",
       "      <td>legit</td>\n",
       "    </tr>\n",
       "    <tr>\n",
       "      <th>90505</th>\n",
       "      <td>iws</td>\n",
       "      <td>legit</td>\n",
       "    </tr>\n",
       "    <tr>\n",
       "      <th>72175</th>\n",
       "      <td>gapinc</td>\n",
       "      <td>legit</td>\n",
       "    </tr>\n",
       "    <tr>\n",
       "      <th>15112</th>\n",
       "      <td>ascodevida</td>\n",
       "      <td>legit</td>\n",
       "    </tr>\n",
       "    <tr>\n",
       "      <th>71687</th>\n",
       "      <td>cafebisnis</td>\n",
       "      <td>legit</td>\n",
       "    </tr>\n",
       "  </tbody>\n",
       "</table>\n",
       "</div>"
      ],
      "text/plain": [
       "           domain  class\n",
       "13204    truetwit  legit\n",
       "90505         iws  legit\n",
       "72175      gapinc  legit\n",
       "15112  ascodevida  legit\n",
       "71687  cafebisnis  legit"
      ]
     },
     "execution_count": 7,
     "metadata": {},
     "output_type": "execute_result"
    }
   ],
   "source": [
    "alexa_dataframe = pd.read_csv('data/alexa_100k.csv', names=['rank','uri'], header=None, encoding='utf-8')\n",
    "\n",
    "def domain_extract(uri):\n",
    "    ext = tldextract.extract(uri)\n",
    "    if (not ext.suffix):\n",
    "        return np.nan\n",
    "    else:\n",
    "        return ext.domain\n",
    "    \n",
    "alexa_dataframe['domain'] = alexa_dataframe['uri'].apply(domain_extract)\n",
    "del alexa_dataframe['rank'], alexa_dataframe['uri']\n",
    "alexa_dataframe.dropna(inplace=True)\n",
    "alexa_dataframe.drop_duplicates(inplace=True)\n",
    "alexa_dataframe['class'] = 'legit'\n",
    "# Shuffle the data (important for training/testing)\n",
    "alexa_dataframe = alexa_dataframe.reindex(np.random.permutation(alexa_dataframe.index))\n",
    "alexa_total = alexa_dataframe.shape[0]\n",
    "print('Total Alexa domains %d' % alexa_total)\n",
    "# Create a holdout set of 10% of the total alexa domains\n",
    "split = int(0.1 * alexa_total)\n",
    "hold_out_alexa, alexa_dataframe = alexa_dataframe[:split], alexa_dataframe[split:]\n",
    "print('Number of training Alexa domains: %d' % alexa_dataframe.shape[0])\n",
    "alexa_dataframe.head()"
   ]
  },
  {
   "cell_type": "markdown",
   "metadata": {},
   "source": [
    "#### Prepare DGA dataset"
   ]
  },
  {
   "cell_type": "code",
   "execution_count": 8,
   "metadata": {},
   "outputs": [
    {
     "name": "stdout",
     "output_type": "stream",
     "text": [
      "Total DGA domains 2664\n",
      "Number of training DGA domains: 2397\n"
     ]
    },
    {
     "data": {
      "text/html": [
       "<div>\n",
       "<style scoped>\n",
       "    .dataframe tbody tr th:only-of-type {\n",
       "        vertical-align: middle;\n",
       "    }\n",
       "\n",
       "    .dataframe tbody tr th {\n",
       "        vertical-align: top;\n",
       "    }\n",
       "\n",
       "    .dataframe thead th {\n",
       "        text-align: right;\n",
       "    }\n",
       "</style>\n",
       "<table border=\"1\" class=\"dataframe\">\n",
       "  <thead>\n",
       "    <tr style=\"text-align: right;\">\n",
       "      <th></th>\n",
       "      <th>domain</th>\n",
       "      <th>class</th>\n",
       "    </tr>\n",
       "  </thead>\n",
       "  <tbody>\n",
       "    <tr>\n",
       "      <th>0</th>\n",
       "      <td>04055051be412eea5a61b7da8438be3d</td>\n",
       "      <td>dga</td>\n",
       "    </tr>\n",
       "    <tr>\n",
       "      <th>1</th>\n",
       "      <td>1cb8a5f36f</td>\n",
       "      <td>dga</td>\n",
       "    </tr>\n",
       "    <tr>\n",
       "      <th>2</th>\n",
       "      <td>30acd347397c34fc273e996b22951002</td>\n",
       "      <td>dga</td>\n",
       "    </tr>\n",
       "    <tr>\n",
       "      <th>3</th>\n",
       "      <td>336c986a284e2b3bc0f69f949cb437cb</td>\n",
       "      <td>dga</td>\n",
       "    </tr>\n",
       "    <tr>\n",
       "      <th>5</th>\n",
       "      <td>40a43e61e56a5c218cf6c22aca27f7ee</td>\n",
       "      <td>dga</td>\n",
       "    </tr>\n",
       "  </tbody>\n",
       "</table>\n",
       "</div>"
      ],
      "text/plain": [
       "                             domain class\n",
       "0  04055051be412eea5a61b7da8438be3d   dga\n",
       "1                        1cb8a5f36f   dga\n",
       "2  30acd347397c34fc273e996b22951002   dga\n",
       "3  336c986a284e2b3bc0f69f949cb437cb   dga\n",
       "5  40a43e61e56a5c218cf6c22aca27f7ee   dga"
      ]
     },
     "execution_count": 8,
     "metadata": {},
     "output_type": "execute_result"
    }
   ],
   "source": [
    "# Read in the DGA domains\n",
    "dga_dataframe = pd.read_csv('data/dga_domains.txt', names=['raw_domain'], header=None, encoding='utf-8')\n",
    "\n",
    "# We noticed that the blacklist values just differ by captilization or .com/.org/.info\n",
    "# <Try map operation>\n",
    "dga_dataframe['domain'] = dga_dataframe.applymap(lambda x: x.split('.')[0].strip().lower())\n",
    "del dga_dataframe['raw_domain']\n",
    "\n",
    "# It's possible we have NaNs from blanklines or whatever\n",
    "dga_dataframe = dga_dataframe.dropna()\n",
    "dga_dataframe = dga_dataframe.drop_duplicates()\n",
    "dga_total = dga_dataframe.shape[0]\n",
    "print('Total DGA domains %d' % dga_total)\n",
    "\n",
    "# Set the class\n",
    "dga_dataframe['class'] = 'dga'\n",
    "\n",
    "# Hold out 10%\n",
    "hold_out_dga = dga_dataframe[int(dga_total*.9):]\n",
    "dga_dataframe = dga_dataframe[:int(dga_total*.9)]\n",
    "\n",
    "print('Number of training DGA domains: %d' % dga_dataframe.shape[0])\n",
    "dga_dataframe.head()"
   ]
  },
  {
   "cell_type": "code",
   "execution_count": 10,
   "metadata": {},
   "outputs": [
    {
     "data": {
      "text/html": [
       "<div>\n",
       "<style scoped>\n",
       "    .dataframe tbody tr th:only-of-type {\n",
       "        vertical-align: middle;\n",
       "    }\n",
       "\n",
       "    .dataframe tbody tr th {\n",
       "        vertical-align: top;\n",
       "    }\n",
       "\n",
       "    .dataframe thead th {\n",
       "        text-align: right;\n",
       "    }\n",
       "</style>\n",
       "<table border=\"1\" class=\"dataframe\">\n",
       "  <thead>\n",
       "    <tr style=\"text-align: right;\">\n",
       "      <th></th>\n",
       "      <th>domain</th>\n",
       "      <th>class</th>\n",
       "    </tr>\n",
       "  </thead>\n",
       "  <tbody>\n",
       "    <tr>\n",
       "      <th>0</th>\n",
       "      <td>truetwit</td>\n",
       "      <td>legit</td>\n",
       "    </tr>\n",
       "    <tr>\n",
       "      <th>1</th>\n",
       "      <td>iws</td>\n",
       "      <td>legit</td>\n",
       "    </tr>\n",
       "    <tr>\n",
       "      <th>2</th>\n",
       "      <td>gapinc</td>\n",
       "      <td>legit</td>\n",
       "    </tr>\n",
       "    <tr>\n",
       "      <th>3</th>\n",
       "      <td>ascodevida</td>\n",
       "      <td>legit</td>\n",
       "    </tr>\n",
       "    <tr>\n",
       "      <th>4</th>\n",
       "      <td>cafebisnis</td>\n",
       "      <td>legit</td>\n",
       "    </tr>\n",
       "  </tbody>\n",
       "</table>\n",
       "</div>"
      ],
      "text/plain": [
       "       domain  class\n",
       "0    truetwit  legit\n",
       "1         iws  legit\n",
       "2      gapinc  legit\n",
       "3  ascodevida  legit\n",
       "4  cafebisnis  legit"
      ]
     },
     "execution_count": 10,
     "metadata": {},
     "output_type": "execute_result"
    }
   ],
   "source": [
    "# Concatenate the domains in a big pile!\n",
    "all_domains = pd.concat([alexa_dataframe, dga_dataframe], ignore_index=True)\n",
    "all_domains.head()"
   ]
  },
  {
   "cell_type": "markdown",
   "metadata": {},
   "source": [
    "### Background on N-Grams model\n",
    "\n",
    "The goal of a language model is to compute the probability of a sentence or sequence of words:  \n",
    "[TODO] Update theory\n",
    "\n",
    "<img src=\"./images/bigram_example.png\" alt=\"drawing\" width=\"800px\"/>\n",
    "\n",
    "Reference: \n",
    "1. [Stanford CS224n](https://www.youtube.com/watch?v=dkUtavsPqNA)"
   ]
  },
  {
   "cell_type": "code",
   "execution_count": null,
   "metadata": {},
   "outputs": [],
   "source": []
  },
  {
   "cell_type": "code",
   "execution_count": null,
   "metadata": {},
   "outputs": [],
   "source": []
  },
  {
   "cell_type": "code",
   "execution_count": null,
   "metadata": {},
   "outputs": [],
   "source": []
  },
  {
   "cell_type": "code",
   "execution_count": null,
   "metadata": {},
   "outputs": [],
   "source": []
  },
  {
   "cell_type": "code",
   "execution_count": 8,
   "metadata": {},
   "outputs": [
    {
     "data": {
      "text/html": [
       "<style>.container { width:100% !important; }</style>"
      ],
      "text/plain": [
       "<IPython.core.display.HTML object>"
      ]
     },
     "metadata": {},
     "output_type": "display_data"
    }
   ],
   "source": []
  },
  {
   "cell_type": "code",
   "execution_count": 15,
   "metadata": {},
   "outputs": [
    {
     "name": "stdout",
     "output_type": "stream",
     "text": [
      "['ac', 'ap', 'bo', 'ce', 'eb', 'fa', 'gl', 'go', 'le', 'og', 'ok', 'oo', 'pl', 'pp']\n",
      "\n",
      "Returns a document-term matrix:\n",
      "[[1 0 1 1 1 1 0 0 0 0 1 1 0 0]\n",
      " [0 0 0 0 0 0 1 1 1 1 0 2 0 0]\n",
      " [0 1 0 0 0 0 0 0 1 0 0 0 1 1]]\n",
      "\n",
      "Sum up the values for each term and log the summed value:\n"
     ]
    },
    {
     "data": {
      "text/plain": [
       "array([0.        , 0.        , 0.        , 0.        , 0.        ,\n",
       "       0.        , 0.        , 0.        , 0.30103   , 0.        ,\n",
       "       0.        , 0.47712125, 0.        , 0.        ])"
      ]
     },
     "execution_count": 15,
     "metadata": {},
     "output_type": "execute_result"
    }
   ],
   "source": [
    "from sklearn.feature_extraction.text import CountVectorizer\n",
    "legit_series = pd.Series(['facebook','gooogle', 'apple'], name=\"domain\")\n",
    "cv = CountVectorizer(analyzer='char', ngram_range=(2,2))\n",
    "counts_matrix = cv.fit_transform(legit_series)\n",
    "ngram_score = np.log10(counts_matrix.sum(axis=0).getA1())\n",
    "\n",
    "print(cv.get_feature_names())\n",
    "print(\"\\nReturns a document-term matrix:\")\n",
    "print(counts_matrix.toarray())\n",
    "\n",
    "print(\"\\nSum up the values for each term and log the summed value:\")\n",
    "ngram_score"
   ]
  },
  {
   "cell_type": "code",
   "execution_count": 10,
   "metadata": {},
   "outputs": [
    {
     "name": "stdout",
     "output_type": "stream",
     "text": [
      "[[1 0 1 1 1 1 0 0 0 0 1 2 0 0]\n",
      " [0 0 0 0 0 0 0 0 0 0 0 0 0 0]]\n",
      "[[1 0]\n",
      " [0 0]\n",
      " [1 0]\n",
      " [1 0]\n",
      " [1 0]\n",
      " [1 0]\n",
      " [0 0]\n",
      " [0 0]\n",
      " [0 0]\n",
      " [0 0]\n",
      " [1 0]\n",
      " [2 0]\n",
      " [0 0]\n",
      " [0 0]]\n"
     ]
    }
   ],
   "source": [
    "test_series = pd.Series(['faceboook','zqwpro'], name=\"domain\")\n",
    "print(cv.transform(test_series).toarray())\n",
    "print(cv.transform(test_series).T.toarray())"
   ]
  },
  {
   "cell_type": "code",
   "execution_count": 11,
   "metadata": {},
   "outputs": [
    {
     "name": "stdout",
     "output_type": "stream",
     "text": [
      "alexa_gram feature is the number of matches between ngrams from test domains and ngrams from all legit domains\n"
     ]
    },
    {
     "data": {
      "text/plain": [
       "array([0.95424251, 0.        ])"
      ]
     },
     "execution_count": 11,
     "metadata": {},
     "output_type": "execute_result"
    }
   ],
   "source": [
    "print('alexa_gram feature is the number of matches between ngrams from test domains and ngrams from all legit domains')\n",
    "np.set_printoptions(threshold=np.inf)\n",
    "ngram_score * cv.transform(test_series).T "
   ]
  },
  {
   "cell_type": "markdown",
   "metadata": {},
   "source": [
    "#### TF-IDF\n",
    "\n",
    "**TF(t)** = (Number of times term t appears in a document) / (Total number of terms in the document)  \n",
    "**IDF(t)** = log_e(Total number of documents / Number of documents with term t in it)  \n",
    "\n",
    "Consider a document containing 100 words wherein the word cat appears 3 times. The term frequency (i.e., tf) for cat is then (3 / 100) = 0.03. Now, assume we have 10 million documents and the word cat appears in one thousand of these. Then, the inverse document frequency (i.e., idf) is calculated as log(10,000,000 / 1,000) = 4. Thus, the Tf-idf weight is the product of these quantities: 0.03 * 4 = 0.12."
   ]
  },
  {
   "cell_type": "code",
   "execution_count": null,
   "metadata": {},
   "outputs": [],
   "source": []
  }
 ],
 "metadata": {
  "kernelspec": {
   "display_name": "Python 3",
   "language": "python",
   "name": "python3"
  },
  "language_info": {
   "codemirror_mode": {
    "name": "ipython",
    "version": 3
   },
   "file_extension": ".py",
   "mimetype": "text/x-python",
   "name": "python",
   "nbconvert_exporter": "python",
   "pygments_lexer": "ipython3",
   "version": "3.6.3"
  }
 },
 "nbformat": 4,
 "nbformat_minor": 2
}
